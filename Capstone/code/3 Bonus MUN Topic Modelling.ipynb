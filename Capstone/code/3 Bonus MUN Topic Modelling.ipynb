{
 "cells": [
  {
   "cell_type": "code",
   "execution_count": 1,
   "metadata": {},
   "outputs": [],
   "source": [
    "#Base and Cleaning \n",
    "import sys\n",
    "import seaborn as sns\n",
    "from matplotlib import pyplot as plt\n",
    "import pandas as pd\n",
    "import numpy as np\n",
    "import time\n",
    "import pickle\n",
    "from datetime import datetime\n",
    "from datetime import date\n",
    "import json\n",
    "import requests\n",
    "import emoji\n",
    "import re\n",
    "import string\n",
    "import warnings\n",
    "from pprint import pprint\n",
    "warnings.filterwarnings(\"ignore\")"
   ]
  },
  {
   "cell_type": "code",
   "execution_count": 2,
   "metadata": {},
   "outputs": [],
   "source": [
    "# Gensim\n",
    "import gensim, spacy, logging, warnings\n",
    "import gensim.corpora as corpora\n",
    "from gensim.models.coherencemodel import CoherenceModel\n",
    "import pyLDAvis.gensim\n",
    "warnings.filterwarnings(\"ignore\")"
   ]
  },
  {
   "cell_type": "code",
   "execution_count": 3,
   "metadata": {},
   "outputs": [],
   "source": [
    "df = pd.read_csv('../datasets/muntot_sentiment.csv', converters = {'tokens': eval, 'sentiment_dict':eval})"
   ]
  },
  {
   "cell_type": "code",
   "execution_count": 4,
   "metadata": {},
   "outputs": [],
   "source": [
    "df['datetime']=pd.to_datetime(df['datetime'])"
   ]
  },
  {
   "cell_type": "code",
   "execution_count": 5,
   "metadata": {
    "scrolled": true
   },
   "outputs": [
    {
     "data": {
      "text/html": [
       "<div>\n",
       "<style scoped>\n",
       "    .dataframe tbody tr th:only-of-type {\n",
       "        vertical-align: middle;\n",
       "    }\n",
       "\n",
       "    .dataframe tbody tr th {\n",
       "        vertical-align: top;\n",
       "    }\n",
       "\n",
       "    .dataframe thead th {\n",
       "        text-align: right;\n",
       "    }\n",
       "</style>\n",
       "<table border=\"1\" class=\"dataframe\">\n",
       "  <thead>\n",
       "    <tr style=\"text-align: right;\">\n",
       "      <th></th>\n",
       "      <th>username</th>\n",
       "      <th>text</th>\n",
       "      <th>tweetcreatedts</th>\n",
       "      <th>hashtags</th>\n",
       "      <th>retweetcount</th>\n",
       "      <th>likecount</th>\n",
       "      <th>acctdesc</th>\n",
       "      <th>location</th>\n",
       "      <th>followers</th>\n",
       "      <th>totaltweets</th>\n",
       "      <th>usercreatedts</th>\n",
       "      <th>datetime</th>\n",
       "      <th>time</th>\n",
       "      <th>mentions</th>\n",
       "      <th>cleantext</th>\n",
       "      <th>tokens</th>\n",
       "      <th>sentiment_dict</th>\n",
       "      <th>sentiment_score</th>\n",
       "      <th>sentiment_rating</th>\n",
       "    </tr>\n",
       "  </thead>\n",
       "  <tbody>\n",
       "    <tr>\n",
       "      <th>0</th>\n",
       "      <td>ManUtd</td>\n",
       "      <td>under way at old trafford — come on united! 🔴⚪...</td>\n",
       "      <td>2020-10-04 15:30:16</td>\n",
       "      <td>['MUFC', 'MUNTOT']</td>\n",
       "      <td>262</td>\n",
       "      <td>1917</td>\n",
       "      <td>Official #MUFC account. @ManUtd_ES 🇪🇸 | @ManUt...</td>\n",
       "      <td>Manchester, England</td>\n",
       "      <td>23298880</td>\n",
       "      <td>61791</td>\n",
       "      <td>2012-04-20 15:17:43</td>\n",
       "      <td>2020-10-04 15:30:00</td>\n",
       "      <td>15:30:00</td>\n",
       "      <td>NaN</td>\n",
       "      <td>under way at old trafford  come on united mufc...</td>\n",
       "      <td>[way, old, trafford, come]</td>\n",
       "      <td>{'neg': 0.0, 'neu': 0.763, 'pos': 0.237, 'comp...</td>\n",
       "      <td>0.4215</td>\n",
       "      <td>pos</td>\n",
       "    </tr>\n",
       "    <tr>\n",
       "      <th>1</th>\n",
       "      <td>NelsonNelli2</td>\n",
       "      <td>ready for battle.\\n\\n#mufc #muntot https://t.c...</td>\n",
       "      <td>2020-10-04 15:30:16</td>\n",
       "      <td>['MUFC', 'MUNTOT']</td>\n",
       "      <td>757</td>\n",
       "      <td>0</td>\n",
       "      <td>I'm jovial and  fun to be with</td>\n",
       "      <td>Port Harcourt, Nigeria</td>\n",
       "      <td>1</td>\n",
       "      <td>45</td>\n",
       "      <td>2020-09-25 07:43:39</td>\n",
       "      <td>2020-10-04 15:30:00</td>\n",
       "      <td>15:30:00</td>\n",
       "      <td>NaN</td>\n",
       "      <td>ready for battle mufc muntot</td>\n",
       "      <td>[ready, battle]</td>\n",
       "      <td>{'neg': 0.321, 'neu': 0.37, 'pos': 0.309, 'com...</td>\n",
       "      <td>-0.0258</td>\n",
       "      <td>neu</td>\n",
       "    </tr>\n",
       "    <tr>\n",
       "      <th>2</th>\n",
       "      <td>Dcfox82</td>\n",
       "      <td>cmon #mufc 3pts today please</td>\n",
       "      <td>2020-10-04 15:30:16</td>\n",
       "      <td>['mufc']</td>\n",
       "      <td>0</td>\n",
       "      <td>0</td>\n",
       "      <td>work for nhs, Husband, dad of 3, student of li...</td>\n",
       "      <td>Derby,England</td>\n",
       "      <td>595</td>\n",
       "      <td>4873</td>\n",
       "      <td>2010-10-18 16:11:48</td>\n",
       "      <td>2020-10-04 15:30:00</td>\n",
       "      <td>15:30:00</td>\n",
       "      <td>NaN</td>\n",
       "      <td>cmon mufc  today please</td>\n",
       "      <td>[cmon, today, please]</td>\n",
       "      <td>{'neg': 0.0, 'neu': 0.566, 'pos': 0.434, 'comp...</td>\n",
       "      <td>0.3182</td>\n",
       "      <td>pos</td>\n",
       "    </tr>\n",
       "    <tr>\n",
       "      <th>3</th>\n",
       "      <td>lynger2000</td>\n",
       "      <td>come united!!!!!!!!!!!! 🔴🔴 #muntot #mufc</td>\n",
       "      <td>2020-10-04 15:30:16</td>\n",
       "      <td>['MUNTOT', 'MUFC']</td>\n",
       "      <td>0</td>\n",
       "      <td>0</td>\n",
       "      <td>A Scottish lass who will always and forever be...</td>\n",
       "      <td>Leeds, England</td>\n",
       "      <td>3337</td>\n",
       "      <td>44646</td>\n",
       "      <td>2012-11-14 20:15:43</td>\n",
       "      <td>2020-10-04 15:30:00</td>\n",
       "      <td>15:30:00</td>\n",
       "      <td>NaN</td>\n",
       "      <td>come united muntot mufc</td>\n",
       "      <td>[come]</td>\n",
       "      <td>{'neg': 0.0, 'neu': 0.517, 'pos': 0.483, 'comp...</td>\n",
       "      <td>0.4215</td>\n",
       "      <td>pos</td>\n",
       "    </tr>\n",
       "    <tr>\n",
       "      <th>4</th>\n",
       "      <td>URMySolskjaer</td>\n",
       "      <td>telles and cavani now done,  #mufc will have o...</td>\n",
       "      <td>2020-10-04 15:30:16</td>\n",
       "      <td>['MUFC']</td>\n",
       "      <td>432</td>\n",
       "      <td>0</td>\n",
       "      <td>NaN</td>\n",
       "      <td>NaN</td>\n",
       "      <td>43</td>\n",
       "      <td>2738</td>\n",
       "      <td>2015-11-22 17:14:36</td>\n",
       "      <td>2020-10-04 15:30:00</td>\n",
       "      <td>15:30:00</td>\n",
       "      <td>NaN</td>\n",
       "      <td>telles and cavani now done mufc will have one ...</td>\n",
       "      <td>[telles, cavani, one, final, push, see, finall...</td>\n",
       "      <td>{'neg': 0.0, 'neu': 1.0, 'pos': 0.0, 'compound...</td>\n",
       "      <td>0.0000</td>\n",
       "      <td>neu</td>\n",
       "    </tr>\n",
       "    <tr>\n",
       "      <th>...</th>\n",
       "      <td>...</td>\n",
       "      <td>...</td>\n",
       "      <td>...</td>\n",
       "      <td>...</td>\n",
       "      <td>...</td>\n",
       "      <td>...</td>\n",
       "      <td>...</td>\n",
       "      <td>...</td>\n",
       "      <td>...</td>\n",
       "      <td>...</td>\n",
       "      <td>...</td>\n",
       "      <td>...</td>\n",
       "      <td>...</td>\n",
       "      <td>...</td>\n",
       "      <td>...</td>\n",
       "      <td>...</td>\n",
       "      <td>...</td>\n",
       "      <td>...</td>\n",
       "      <td>...</td>\n",
       "    </tr>\n",
       "    <tr>\n",
       "      <th>38696</th>\n",
       "      <td>__DANEJO</td>\n",
       "      <td>define manchester united in 1 - 3 words 📽📽 #mu...</td>\n",
       "      <td>2020-10-04 17:21:27</td>\n",
       "      <td>['MUNTOT']</td>\n",
       "      <td>215</td>\n",
       "      <td>0</td>\n",
       "      <td>ᴬʲᵉᵖᵃᵏᵒ • ᴵ'ᵐ ᴼⁿˡʸ ᴴᵘᵐᵃⁿ ☺  • ᴬᵐᵇⁱᵛᵉʳᵗ • ᴱˣᵖˡᵒ...</td>\n",
       "      <td>North 🇳🇬</td>\n",
       "      <td>9140</td>\n",
       "      <td>34660</td>\n",
       "      <td>2014-06-26 11:30:26</td>\n",
       "      <td>2020-10-04 17:21:00</td>\n",
       "      <td>17:21:00</td>\n",
       "      <td>NaN</td>\n",
       "      <td>define manchester united in    words muntot</td>\n",
       "      <td>[define, word]</td>\n",
       "      <td>{'neg': 0.0, 'neu': 0.641, 'pos': 0.359, 'comp...</td>\n",
       "      <td>0.4215</td>\n",
       "      <td>pos</td>\n",
       "    </tr>\n",
       "    <tr>\n",
       "      <th>38697</th>\n",
       "      <td>Chachi97357115</td>\n",
       "      <td>pogba and shaw showing they are breaking.   ne...</td>\n",
       "      <td>2020-10-04 17:21:27</td>\n",
       "      <td>['MUNTOT']</td>\n",
       "      <td>0</td>\n",
       "      <td>0</td>\n",
       "      <td>NaN</td>\n",
       "      <td>NaN</td>\n",
       "      <td>1</td>\n",
       "      <td>3</td>\n",
       "      <td>2020-09-29 22:56:29</td>\n",
       "      <td>2020-10-04 17:21:00</td>\n",
       "      <td>17:21:00</td>\n",
       "      <td>NaN</td>\n",
       "      <td>pogba and shaw showing they are breaking needl...</td>\n",
       "      <td>[pogba, shaw, show, break, needless, foul]</td>\n",
       "      <td>{'neg': 0.0, 'neu': 1.0, 'pos': 0.0, 'compound...</td>\n",
       "      <td>0.0000</td>\n",
       "      <td>neu</td>\n",
       "    </tr>\n",
       "    <tr>\n",
       "      <th>38698</th>\n",
       "      <td>MiesterBob</td>\n",
       "      <td>penalty to spurs...\\n\\n#muntot</td>\n",
       "      <td>2020-10-04 17:21:27</td>\n",
       "      <td>['MUNTOT']</td>\n",
       "      <td>329</td>\n",
       "      <td>0</td>\n",
       "      <td>extreme</td>\n",
       "      <td>Botswana, Gaborone</td>\n",
       "      <td>2</td>\n",
       "      <td>7</td>\n",
       "      <td>2019-02-27 08:29:10</td>\n",
       "      <td>2020-10-04 17:21:00</td>\n",
       "      <td>17:21:00</td>\n",
       "      <td>NaN</td>\n",
       "      <td>penalty to spurs muntot</td>\n",
       "      <td>[penalty]</td>\n",
       "      <td>{'neg': 0.5, 'neu': 0.5, 'pos': 0.0, 'compound...</td>\n",
       "      <td>-0.4588</td>\n",
       "      <td>neg</td>\n",
       "    </tr>\n",
       "    <tr>\n",
       "      <th>38699</th>\n",
       "      <td>2020Kuami</td>\n",
       "      <td>who is a better defender? \\n\\n1. retweet for m...</td>\n",
       "      <td>2020-10-04 17:21:27</td>\n",
       "      <td>['MUNTOT']</td>\n",
       "      <td>34</td>\n",
       "      <td>0</td>\n",
       "      <td>Neva give up bro 🙌🙌🙌🙌</td>\n",
       "      <td>Greater Accra, Ghana</td>\n",
       "      <td>248</td>\n",
       "      <td>1789</td>\n",
       "      <td>2020-10-01 17:13:59</td>\n",
       "      <td>2020-10-04 17:21:00</td>\n",
       "      <td>17:21:00</td>\n",
       "      <td>NaN</td>\n",
       "      <td>who is a better defender  retweet for maguire ...</td>\n",
       "      <td>[well, defender, maguire, zouma]</td>\n",
       "      <td>{'neg': 0.0, 'neu': 0.541, 'pos': 0.459, 'comp...</td>\n",
       "      <td>0.7003</td>\n",
       "      <td>pos</td>\n",
       "    </tr>\n",
       "    <tr>\n",
       "      <th>38700</th>\n",
       "      <td>InLammLight</td>\n",
       "      <td>evra: \"are you seeing this right now? it's cat...</td>\n",
       "      <td>2020-10-04 17:21:27</td>\n",
       "      <td>[]</td>\n",
       "      <td>1880</td>\n",
       "      <td>0</td>\n",
       "      <td>In a Nutshell, i'm a Nutcase</td>\n",
       "      <td>asgard</td>\n",
       "      <td>707</td>\n",
       "      <td>56217</td>\n",
       "      <td>2017-05-20 23:48:11</td>\n",
       "      <td>2020-10-04 17:21:00</td>\n",
       "      <td>17:21:00</td>\n",
       "      <td>NaN</td>\n",
       "      <td>evra are you seeing this right now its catastr...</td>\n",
       "      <td>[evra, see, right, catastrophic, fan, go, play...</td>\n",
       "      <td>{'neg': 0.123, 'neu': 0.769, 'pos': 0.108, 'co...</td>\n",
       "      <td>-0.1027</td>\n",
       "      <td>neu</td>\n",
       "    </tr>\n",
       "  </tbody>\n",
       "</table>\n",
       "<p>38701 rows × 19 columns</p>\n",
       "</div>"
      ],
      "text/plain": [
       "             username                                               text  \\\n",
       "0              ManUtd  under way at old trafford — come on united! 🔴⚪...   \n",
       "1        NelsonNelli2  ready for battle.\\n\\n#mufc #muntot https://t.c...   \n",
       "2             Dcfox82                       cmon #mufc 3pts today please   \n",
       "3          lynger2000           come united!!!!!!!!!!!! 🔴🔴 #muntot #mufc   \n",
       "4       URMySolskjaer  telles and cavani now done,  #mufc will have o...   \n",
       "...               ...                                                ...   \n",
       "38696        __DANEJO  define manchester united in 1 - 3 words 📽📽 #mu...   \n",
       "38697  Chachi97357115  pogba and shaw showing they are breaking.   ne...   \n",
       "38698      MiesterBob                     penalty to spurs...\\n\\n#muntot   \n",
       "38699       2020Kuami  who is a better defender? \\n\\n1. retweet for m...   \n",
       "38700     InLammLight  evra: \"are you seeing this right now? it's cat...   \n",
       "\n",
       "            tweetcreatedts            hashtags  retweetcount  likecount  \\\n",
       "0      2020-10-04 15:30:16  ['MUFC', 'MUNTOT']           262       1917   \n",
       "1      2020-10-04 15:30:16  ['MUFC', 'MUNTOT']           757          0   \n",
       "2      2020-10-04 15:30:16            ['mufc']             0          0   \n",
       "3      2020-10-04 15:30:16  ['MUNTOT', 'MUFC']             0          0   \n",
       "4      2020-10-04 15:30:16            ['MUFC']           432          0   \n",
       "...                    ...                 ...           ...        ...   \n",
       "38696  2020-10-04 17:21:27          ['MUNTOT']           215          0   \n",
       "38697  2020-10-04 17:21:27          ['MUNTOT']             0          0   \n",
       "38698  2020-10-04 17:21:27          ['MUNTOT']           329          0   \n",
       "38699  2020-10-04 17:21:27          ['MUNTOT']            34          0   \n",
       "38700  2020-10-04 17:21:27                  []          1880          0   \n",
       "\n",
       "                                                acctdesc  \\\n",
       "0      Official #MUFC account. @ManUtd_ES 🇪🇸 | @ManUt...   \n",
       "1                         I'm jovial and  fun to be with   \n",
       "2      work for nhs, Husband, dad of 3, student of li...   \n",
       "3      A Scottish lass who will always and forever be...   \n",
       "4                                                    NaN   \n",
       "...                                                  ...   \n",
       "38696  ᴬʲᵉᵖᵃᵏᵒ • ᴵ'ᵐ ᴼⁿˡʸ ᴴᵘᵐᵃⁿ ☺  • ᴬᵐᵇⁱᵛᵉʳᵗ • ᴱˣᵖˡᵒ...   \n",
       "38697                                                NaN   \n",
       "38698                                            extreme   \n",
       "38699                              Neva give up bro 🙌🙌🙌🙌   \n",
       "38700                       In a Nutshell, i'm a Nutcase   \n",
       "\n",
       "                     location  followers  totaltweets        usercreatedts  \\\n",
       "0         Manchester, England   23298880        61791  2012-04-20 15:17:43   \n",
       "1      Port Harcourt, Nigeria          1           45  2020-09-25 07:43:39   \n",
       "2               Derby,England        595         4873  2010-10-18 16:11:48   \n",
       "3              Leeds, England       3337        44646  2012-11-14 20:15:43   \n",
       "4                         NaN         43         2738  2015-11-22 17:14:36   \n",
       "...                       ...        ...          ...                  ...   \n",
       "38696                North 🇳🇬       9140        34660  2014-06-26 11:30:26   \n",
       "38697                     NaN          1            3  2020-09-29 22:56:29   \n",
       "38698      Botswana, Gaborone          2            7  2019-02-27 08:29:10   \n",
       "38699    Greater Accra, Ghana        248         1789  2020-10-01 17:13:59   \n",
       "38700                 asgard         707        56217  2017-05-20 23:48:11   \n",
       "\n",
       "                 datetime      time mentions  \\\n",
       "0     2020-10-04 15:30:00  15:30:00      NaN   \n",
       "1     2020-10-04 15:30:00  15:30:00      NaN   \n",
       "2     2020-10-04 15:30:00  15:30:00      NaN   \n",
       "3     2020-10-04 15:30:00  15:30:00      NaN   \n",
       "4     2020-10-04 15:30:00  15:30:00      NaN   \n",
       "...                   ...       ...      ...   \n",
       "38696 2020-10-04 17:21:00  17:21:00      NaN   \n",
       "38697 2020-10-04 17:21:00  17:21:00      NaN   \n",
       "38698 2020-10-04 17:21:00  17:21:00      NaN   \n",
       "38699 2020-10-04 17:21:00  17:21:00      NaN   \n",
       "38700 2020-10-04 17:21:00  17:21:00      NaN   \n",
       "\n",
       "                                               cleantext  \\\n",
       "0      under way at old trafford  come on united mufc...   \n",
       "1                          ready for battle mufc muntot    \n",
       "2                                cmon mufc  today please   \n",
       "3                                come united muntot mufc   \n",
       "4      telles and cavani now done mufc will have one ...   \n",
       "...                                                  ...   \n",
       "38696       define manchester united in    words muntot    \n",
       "38697  pogba and shaw showing they are breaking needl...   \n",
       "38698                            penalty to spurs muntot   \n",
       "38699  who is a better defender  retweet for maguire ...   \n",
       "38700  evra are you seeing this right now its catastr...   \n",
       "\n",
       "                                                  tokens  \\\n",
       "0                             [way, old, trafford, come]   \n",
       "1                                        [ready, battle]   \n",
       "2                                  [cmon, today, please]   \n",
       "3                                                 [come]   \n",
       "4      [telles, cavani, one, final, push, see, finall...   \n",
       "...                                                  ...   \n",
       "38696                                     [define, word]   \n",
       "38697         [pogba, shaw, show, break, needless, foul]   \n",
       "38698                                          [penalty]   \n",
       "38699                   [well, defender, maguire, zouma]   \n",
       "38700  [evra, see, right, catastrophic, fan, go, play...   \n",
       "\n",
       "                                          sentiment_dict  sentiment_score  \\\n",
       "0      {'neg': 0.0, 'neu': 0.763, 'pos': 0.237, 'comp...           0.4215   \n",
       "1      {'neg': 0.321, 'neu': 0.37, 'pos': 0.309, 'com...          -0.0258   \n",
       "2      {'neg': 0.0, 'neu': 0.566, 'pos': 0.434, 'comp...           0.3182   \n",
       "3      {'neg': 0.0, 'neu': 0.517, 'pos': 0.483, 'comp...           0.4215   \n",
       "4      {'neg': 0.0, 'neu': 1.0, 'pos': 0.0, 'compound...           0.0000   \n",
       "...                                                  ...              ...   \n",
       "38696  {'neg': 0.0, 'neu': 0.641, 'pos': 0.359, 'comp...           0.4215   \n",
       "38697  {'neg': 0.0, 'neu': 1.0, 'pos': 0.0, 'compound...           0.0000   \n",
       "38698  {'neg': 0.5, 'neu': 0.5, 'pos': 0.0, 'compound...          -0.4588   \n",
       "38699  {'neg': 0.0, 'neu': 0.541, 'pos': 0.459, 'comp...           0.7003   \n",
       "38700  {'neg': 0.123, 'neu': 0.769, 'pos': 0.108, 'co...          -0.1027   \n",
       "\n",
       "      sentiment_rating  \n",
       "0                  pos  \n",
       "1                  neu  \n",
       "2                  pos  \n",
       "3                  pos  \n",
       "4                  neu  \n",
       "...                ...  \n",
       "38696              pos  \n",
       "38697              neu  \n",
       "38698              neg  \n",
       "38699              pos  \n",
       "38700              neu  \n",
       "\n",
       "[38701 rows x 19 columns]"
      ]
     },
     "execution_count": 5,
     "metadata": {},
     "output_type": "execute_result"
    }
   ],
   "source": [
    "df"
   ]
  },
  {
   "cell_type": "code",
   "execution_count": 6,
   "metadata": {},
   "outputs": [],
   "source": [
    "data = df.tokens.to_list()"
   ]
  },
  {
   "cell_type": "markdown",
   "metadata": {},
   "source": [
    "# Creating the base model"
   ]
  },
  {
   "cell_type": "code",
   "execution_count": 7,
   "metadata": {},
   "outputs": [],
   "source": [
    "# Create Dictionary\n",
    "id2word = corpora.Dictionary(data)\n",
    "\n",
    "# Create Corpus: Term Document Frequency\n",
    "corpus = [id2word.doc2bow(text) for text in data]"
   ]
  },
  {
   "cell_type": "code",
   "execution_count": 8,
   "metadata": {},
   "outputs": [],
   "source": [
    "# Define a function to evaluate the model\n",
    "def evaluator(model, dictionary=id2word, texts=data, corpus=corpus):\n",
    "    base_perplexity = model.log_perplexity(corpus)\n",
    "    print('\\nPerplexity: ', base_perplexity) \n",
    "\n",
    "    # Compute Coherence Score\n",
    "    coherence_model = CoherenceModel(model=model, texts=data, \n",
    "                                       dictionary=id2word, coherence='c_v')\n",
    "    coherence_lda_model= coherence_model.get_coherence()\n",
    "    print('\\nCoherence Score: ', coherence_lda_model)"
   ]
  },
  {
   "cell_type": "code",
   "execution_count": 9,
   "metadata": {},
   "outputs": [],
   "source": [
    "# Build LDA model\n",
    "lda_model1_01 = gensim.models.ldamulticore.LdaMulticore(corpus=corpus,\n",
    "                                           id2word=id2word,\n",
    "                                           num_topics=4, \n",
    "                                           workers=12,\n",
    "                                           passes=5,\n",
    "                                           random_state=1892,\n",
    "                                           alpha='symmetric',\n",
    "                                           iterations=50,\n",
    "                                           per_word_topics=True)\n"
   ]
  },
  {
   "cell_type": "code",
   "execution_count": 10,
   "metadata": {},
   "outputs": [
    {
     "name": "stdout",
     "output_type": "stream",
     "text": [
      "[(0,\n",
      "  '0.024*\"go\" + 0.023*\"goal\" + 0.015*\"game\" + 0.015*\"username\" + 0.015*\"man\" + '\n",
      "  '0.013*\"first\" + 0.012*\"get\" + 0.011*\"league\" + 0.010*\"time\" + '\n",
      "  '0.009*\"match\"'),\n",
      " (1,\n",
      "  '0.031*\"man\" + 0.027*\"red\" + 0.022*\"martial\" + 0.022*\"card\" + 0.017*\"utd\" + '\n",
      "  '0.016*\"get\" + 0.012*\"lamela\" + 0.010*\"ole\" + 0.009*\"pron\" + 0.009*\"old\"'),\n",
      " (2,\n",
      "  '0.031*\"username\" + 0.031*\"fan\" + 0.028*\"right\" + 0.027*\"evra\" + 0.025*\"sky\" '\n",
      "  '+ 0.023*\"patrice\" + 0.020*\"mulive\" + 0.019*\"play\" + 0.018*\"maguire\" + '\n",
      "  '0.016*\"team\"'),\n",
      " (3,\n",
      "  '0.035*\"telles\" + 0.031*\"alex\" + 0.025*\"username\" + 0.024*\"porto\" + '\n",
      "  '0.021*\"medical\" + 0.021*\"hour\" + 0.021*\"next\" + 0.019*\"last\" + '\n",
      "  '0.019*\"transfer\" + 0.018*\"go\"')]\n"
     ]
    }
   ],
   "source": [
    "pprint(lda_model1_01.print_topics())"
   ]
  },
  {
   "cell_type": "code",
   "execution_count": 11,
   "metadata": {
    "scrolled": true
   },
   "outputs": [
    {
     "name": "stdout",
     "output_type": "stream",
     "text": [
      "\n",
      "Perplexity:  -6.510383259543469\n",
      "\n",
      "Coherence Score:  0.4128503545955098\n"
     ]
    }
   ],
   "source": [
    "evaluator(lda_model1_01)"
   ]
  },
  {
   "cell_type": "code",
   "execution_count": 12,
   "metadata": {},
   "outputs": [],
   "source": [
    "modelseries1results = [['model1_01',4,5,50,'symmetric',-6.5080,0.4128]]\n"
   ]
  },
  {
   "cell_type": "code",
   "execution_count": 13,
   "metadata": {
    "scrolled": true
   },
   "outputs": [
    {
     "data": {
      "text/html": [
       "\n",
       "<link rel=\"stylesheet\" type=\"text/css\" href=\"https://cdn.rawgit.com/bmabey/pyLDAvis/files/ldavis.v1.0.0.css\">\n",
       "\n",
       "\n",
       "<div id=\"ldavis_el126722555851798728726768056\"></div>\n",
       "<script type=\"text/javascript\">\n",
       "\n",
       "var ldavis_el126722555851798728726768056_data = {\"mdsDat\": {\"x\": [-0.21620666370544592, 0.04630563167920537, 0.010625539450812108, 0.15927549257542856], \"y\": [0.07540519326526768, -0.1474807282915769, -0.07838836782058826, 0.15046390284689756], \"topics\": [1, 2, 3, 4], \"cluster\": [1, 1, 1, 1], \"Freq\": [27.61171022302939, 26.62968719021204, 25.82126145379385, 19.937341132964722]}, \"tinfo\": {\"Term\": [\"telles\", \"alex\", \"evra\", \"fan\", \"porto\", \"right\", \"patrice\", \"red\", \"hour\", \"next\", \"card\", \"medical\", \"reach\", \"agreement\", \"sort\", \"detail\", \"soon\", \"announcement\", \"official\", \"transfer\", \"sky\", \"mulive\", \"last\", \"martial\", \"pain\", \"understand\", \"buy\", \"deserve\", \"positive\", \"person\", \"announcement\", \"detail\", \"sort\", \"official\", \"gt\", \"hour\", \"paperwork\", \"roy_keane_waite\", \"accept\", \"soon\", \"fpl_points_p\", \"repo\", \"withhold\", \"download\", \"next\", \"scrabbling\", \"avoidable_chaos\", \"final\", \"loose_ball\", \"trip\", \"ei\", \"since_april\", \"matter_chop_hot\", \"heungmin_statue\", \"visitor\", \"porto\", \"caught_nappe\", \"jadon\", \"agreement\", \"mufcs\", \"reach\", \"link_gtgt\", \"alex\", \"force\", \"much_difference\", \"medical\", \"add\", \"telles\", \"transfer\", \"move\", \"last\", \"join\", \"fee\", \"around\", \"plus\", \"stream\", \"heungmin\", \"gary_neville\", \"live\", \"also\", \"penalty\", \"username\", \"go\", \"utd\", \"man\", \"cavani\", \"goal\", \"player\", \"martial\", \"mourinho\", \"days_ago\", \"lesson\", \"receive\", \"darkest_hour\", \"youve_sat\", \"leeching_owner\", \"managers_failed\", \"ben_davies\", \"feet_away\", \"empty_stadium\", \"spotkick\", \"trail\", \"serge_make\", \"battle\", \"said_nah\", \"de_gea_gather\", \"oversee\", \"teach\", \"theyre_walke\", \"leadership\", \"oct\", \"sprint_look\", \"regui\", \"book_lol\", \"collect\", \"harryyyy\", \"erik\", \"texte\", \"broker\", \"parties_settle\", \"card\", \"foul\", \"space\", \"must_improve\", \"red\", \"ten\", \"min\", \"oles\", \"five\", \"sonny\", \"laugh\", \"chelsea\", \"life\", \"control\", \"dey\", \"martials\", \"blame\", \"trafford\", \"beat\", \"defend\", \"martial\", \"pitch\", \"moment\", \"drag\", \"old\", \"send\", \"man\", \"get\", \"bring\", \"wheel\", \"lamela\", \"utd\", \"ole\", \"say\", \"really\", \"pron\", \"anthony\", \"amp\", \"player\", \"need\", \"come\", \"game\", \"today\", \"bad\", \"maguire\", \"penalty\", \"look\", \"username\", \"goal\", \"team\", \"time\", \"club\", \"tickle_across\", \"zoom_call\", \"graeme_souness\", \"dickheads\", \"visiting_side\", \"coming\", \"november\", \"mondayvibes\", \"campaign_flye\", \"gws\", \"hyperlink\", \"define\", \"long_night\", \"nobody_nobody\", \"faces_say\", \"thierry_henry\", \"sonnyyyyyy\", \"repeat\", \"roy_keane\", \"cuppymufc\", \"calamitous_mess\", \"books_challenge\", \"announce\", \"pathetic\", \"called_stars\", \"nine\", \"future\", \"reject\", \"scary\", \"selection\", \"six\", \"concede\", \"despair\", \"telle\", \"stay\", \"guess\", \"first\", \"fpl\", \"word\", \"highlight\", \"let\", \"three\", \"hit\", \"away\", \"four\", \"nee\", \"assist\", \"league\", \"link\", \"half\", \"goal\", \"could\", \"win\", \"premier\", \"match\", \"thing\", \"game\", \"go\", \"even\", \"time\", \"sport\", \"score\", \"minute\", \"need\", \"watch\", \"get\", \"season\", \"look\", \"man\", \"username\", \"club\", \"pron\", \"lamela\", \"maguire\", \"back\", \"think\", \"one\", \"team\", \"utd\", \"player\", \"devastate\", \"positive\", \"messi\", \"anyone_blaming\", \"utterly_delude\", \"pain\", \"playstation\", \"advice\", \"patrice\", \"continue_paying\", \"var_dues\", \"heungmins_cross\", \"catastrophic\", \"understand\", \"couldnt_hide\", \"evra\", \"capitalise\", \"concentration\", \"shall\", \"days_obviously\", \"escape_clause\", \"finalising_deal\", \"efforts_blocked\", \"de_beek\", \"bringing_van\", \"hammer_home\", \"leaves_plenty\", \"make_splash\", \"heres\", \"tend\", \"buy\", \"deserve\", \"right\", \"yesssss\", \"bruuunnooooo\", \"person\", \"solskjaer\", \"fan\", \"contract\", \"captain\", \"mulive\", \"sky\", \"sancho\", \"play\", \"team\", \"harry\", \"maguire\", \"one\", \"username\", \"son\", \"see\", \"go\", \"ole\"], \"Freq\": [2914.0, 2492.0, 1510.0, 2084.0, 1851.0, 1682.0, 1291.0, 2170.0, 1608.0, 1609.0, 1745.0, 1709.0, 1415.0, 1406.0, 1263.0, 1245.0, 1294.0, 1233.0, 1256.0, 1549.0, 2085.0, 1480.0, 1637.0, 2559.0, 676.0, 696.0, 782.0, 775.0, 639.0, 743.0, 1229.9435279144998, 1239.8597472100003, 1258.0382611096695, 1248.44592071836, 433.86975857614016, 1595.5553141442695, 93.89051060187478, 79.11356202431794, 429.4782608363853, 1278.5715916895917, 60.45532980483832, 62.06871678084431, 62.04152427167228, 52.66796157846802, 1584.6778876570452, 40.04227344591873, 40.033477942061175, 667.0043615920608, 110.08485220367939, 130.21832869586396, 38.13402788365751, 70.4995749922423, 36.65655060121007, 38.28284234752284, 108.41624338122071, 1810.6395172395937, 33.22263746834045, 223.37746914822944, 1373.9832443837506, 117.39083726273915, 1381.7078549063322, 407.93784726695236, 2377.0200026236635, 467.489283796791, 245.11368287764805, 1596.9041048810434, 600.1429584631087, 2680.4846700875273, 1441.0653587241748, 514.280871030833, 1471.5787541799275, 551.6548828175153, 649.4123673006552, 580.6688937118082, 156.90077792260715, 528.9652135672737, 265.42875106940545, 331.49115072023704, 769.5434642704824, 490.5328168236632, 1227.8281673953525, 1890.111197650821, 1399.0023964443458, 1035.5834169729978, 1178.1378428278817, 674.8064888236523, 734.203808042032, 633.0852342910864, 646.2005681674293, 574.4255570286723, 66.48574776987954, 81.14268958779661, 114.89908890873426, 65.72449769244074, 43.629338865228384, 43.62636546441033, 43.61646828740165, 49.835675915602906, 37.71682054054783, 37.70561506717921, 45.011337336021896, 72.44099811203101, 32.97482392504971, 97.91584749279441, 83.42555629529848, 31.362837148694993, 49.850521681115914, 78.95016329257821, 64.72287364515482, 68.38658769256206, 22.73773198257161, 61.90694838213817, 17.564985162134846, 23.80879343439006, 29.13426261627311, 99.48510649939367, 149.28567079905076, 21.715374836152925, 15.260758817470698, 15.255708283795457, 1625.4791857422433, 155.0284461664594, 166.668851615881, 75.3579892688534, 1964.5962626577689, 336.23838316123965, 334.368131037544, 232.65322029210444, 137.42498732159663, 220.2261379405342, 170.71869149352108, 153.13083875523765, 152.26889233523764, 128.44563118201, 286.62245006152204, 96.3510061102677, 252.40351700475844, 630.3066706335821, 173.68089533363974, 506.15328795476194, 1640.032334633033, 177.18410520488828, 124.09607250190987, 96.2625686745078, 660.6920404927802, 517.7406819153131, 2277.936435146571, 1182.4821545050497, 179.82908965487488, 229.50477961560455, 909.5839031679667, 1259.9971846542157, 706.7656167756218, 408.3288428031145, 210.1889392396231, 676.4822600507758, 314.7522830144516, 382.2858954620533, 584.7445872548934, 478.0868309164115, 399.5694078834623, 590.3168423331019, 381.68863268744576, 329.0315052310201, 570.2163809492519, 567.9510573065764, 366.94134620952974, 604.6951892375135, 494.30029284228016, 397.19401743793344, 368.1300948657269, 334.98231671052173, 84.74661387888513, 77.92271317674212, 95.69480499962542, 47.52563649371124, 40.239511728324445, 49.66053965208675, 55.310349881209625, 61.58854331207947, 52.218468605867685, 33.45561657157535, 63.617717823254125, 64.24325084097839, 53.23936992519319, 88.27003443283328, 30.333380012638933, 53.23634675312285, 59.781378366211406, 55.49578483073345, 137.81179307764987, 208.7612839170476, 22.528812127912985, 19.75495290307043, 138.03836623240323, 176.48695329752078, 36.260004068060006, 64.65305540702991, 83.74441998128094, 98.47249055533084, 50.56853332023512, 18.81203830249929, 255.49777776885227, 419.700932180054, 87.43081175114041, 110.87368242577611, 267.0389801543641, 123.95049971002108, 920.6025198136977, 364.6860211716031, 125.75289512829045, 89.31395963754456, 504.8048569900637, 228.43852605848724, 208.5802395689229, 279.4736246182088, 360.0446365285618, 115.33188920143873, 343.66850058729887, 808.5751306731795, 132.91656906853967, 524.8094584178112, 1598.0940298208272, 235.40773672063204, 476.91107798786976, 585.006168730072, 607.0809593113325, 208.03781495179152, 1078.4398458728572, 1725.22133146252, 354.6791074431261, 674.5976341461052, 210.52937003920542, 525.4039441997505, 399.2414216122192, 588.5320934919476, 483.5619906423916, 822.9337976278234, 401.69521588009525, 428.55729416627645, 1053.4680821207673, 1077.180690586801, 428.2265739693291, 545.613297575673, 536.6267167772221, 572.0907163441533, 431.8746447678774, 408.53305447636086, 460.21815974378205, 442.4343623963431, 456.7112471920926, 410.51879251253047, 546.4115514580981, 637.1820850620843, 473.1967249925973, 412.6948239231854, 412.53454104667975, 671.9794975514629, 527.8222996251417, 218.32176403943407, 1278.0374465860555, 66.69477346651482, 66.64929638052213, 55.18404596939769, 498.11949108635866, 681.8920521194601, 44.56900399187745, 1469.7198912495319, 57.05358035261441, 21.422315279509935, 63.438773120229314, 20.68686493318165, 70.12010758348325, 20.139940959911534, 21.408587877993334, 17.865143726291887, 17.861282944306215, 16.521292654992475, 26.905633827573983, 26.86822176885945, 89.77737765022229, 13.866078006936181, 723.6590729138334, 715.5769996789837, 1506.459576017989, 482.1723625431028, 487.6746956014571, 672.1252277604509, 525.7908286532014, 1690.5441035005686, 133.9491377058458, 224.58971497123036, 1075.071698018015, 1350.284215360915, 768.5679433884346, 1041.0629281644972, 890.3712772220309, 567.457812579254, 987.2429912410684, 832.8632058684805, 1694.883444360379, 675.318317077708, 632.0023530948557, 725.7194965704504, 440.84131117282493], \"Total\": [2914.0, 2492.0, 1510.0, 2084.0, 1851.0, 1682.0, 1291.0, 2170.0, 1608.0, 1609.0, 1745.0, 1709.0, 1415.0, 1406.0, 1263.0, 1245.0, 1294.0, 1233.0, 1256.0, 1549.0, 2085.0, 1480.0, 1637.0, 2559.0, 676.0, 696.0, 782.0, 775.0, 639.0, 743.0, 1233.8366044789411, 1245.0861501988309, 1263.9818524798184, 1256.709184482808, 436.7732035584096, 1608.0504625663814, 94.87634246997628, 79.95050137825612, 434.77022341620074, 1294.5076035573081, 61.238055936061656, 62.91391873731305, 62.90886712368879, 53.46372323194347, 1609.5352253520437, 40.777381401574885, 40.775352207863456, 679.9089341235727, 112.36440669039662, 132.92657303678433, 38.93767893075379, 72.00291075584703, 37.43934383733231, 39.10365030807591, 110.76609045948163, 1851.058998785744, 33.98247068052935, 228.6364607390309, 1406.719851495974, 120.25748255280503, 1415.66615215115, 419.9164114649803, 2492.521217673225, 484.11663265317287, 254.19229311315914, 1709.108281243821, 629.8193163214888, 2914.71788633713, 1549.722802701023, 553.947175318757, 1637.8577619395633, 620.905957953951, 774.7889667361212, 697.5755990934318, 165.8854649928543, 690.0787863758412, 315.89268363356143, 415.64393381872765, 1203.8318783283667, 681.5471087290127, 2292.754254502696, 5266.870521835514, 3988.514670200046, 2946.054396314793, 4896.274538240292, 1304.7602626544376, 2980.634465491793, 1741.8240058130427, 2559.439230302459, 1244.0646022526869, 67.20718908909105, 82.16289175192557, 116.5269124025145, 66.70077042429106, 44.370905964619126, 44.37209423625126, 44.36876674696874, 50.776282900071024, 38.44638773586332, 38.444471144594985, 45.95857635402489, 73.97265411812914, 33.74191788998927, 100.429827399874, 85.82739060411383, 32.35121394785318, 51.55467912289707, 81.70966117975512, 67.0438884988741, 70.85939261055118, 23.574142027912355, 64.2474437590308, 18.3195887559387, 24.842261686593496, 30.432495869133803, 103.92546820871667, 156.0078531835558, 22.72000351452315, 15.984569227936078, 15.983119560324173, 1745.8127206187432, 163.94316923626084, 177.25005419288183, 79.60069053501095, 2170.622180193853, 364.27965239792553, 364.3480218178551, 255.1310676199282, 148.444509996159, 242.6628468234158, 186.39596480990187, 168.93056396630115, 168.36631873944063, 140.88464427144555, 334.0179913477632, 103.75026451092329, 296.36404293511225, 811.612907684819, 198.51027135593495, 655.1378755787019, 2559.439230302459, 211.11291033708403, 140.20247838116487, 104.16266898318484, 1071.8231041486827, 799.93616743841, 4896.274538240292, 2266.0296492453817, 222.71992453276403, 307.59255740120864, 1873.2061208299076, 2946.054396314793, 1453.5401958570167, 717.2173274471448, 279.1952896739589, 1608.7215281652557, 512.305757792568, 768.9463899137178, 1741.8240058130427, 1220.308777673239, 929.6950499200498, 2095.42395659197, 955.0360756467567, 710.0791147969082, 2229.2936039547512, 2292.754254502696, 914.1003680573488, 5266.870521835514, 2980.634465491793, 1762.4235156688092, 1391.3247381732874, 938.2151837627202, 85.48540701951828, 78.7476398601957, 97.24879998794782, 48.30323890280565, 40.95634497712595, 50.546648879693095, 56.31535199781339, 62.71254904475567, 53.196941920485244, 34.17388349502133, 65.06526933357836, 65.72687122920442, 54.48298424888222, 90.36026392352635, 31.180689590332832, 54.72738588006268, 61.514671294447766, 57.142423754490174, 142.04572235020086, 215.36189451109186, 23.268423703817348, 20.469919245814506, 143.04793111582666, 183.41260132799252, 37.725578952909196, 67.37553144748242, 87.30818371360438, 102.71693369045177, 53.0370047571197, 19.764950338913454, 269.5364157437403, 451.97889124163964, 92.50199889087888, 118.06175312342248, 289.96719564423285, 132.66804270697673, 1072.5530424689198, 425.6992890310279, 140.26853170247858, 96.39706574157553, 665.4862796899473, 276.27888009541965, 249.592800029118, 349.91864077168674, 472.3456870878711, 129.6243743409046, 455.4431966700478, 1262.472043315615, 153.576435148594, 777.9777603063701, 2980.634465491793, 305.3317448637794, 715.3240038338449, 942.9989600661098, 991.2242973190616, 265.41090367670927, 2095.42395659197, 3988.514670200046, 568.5486680077429, 1391.3247381732874, 283.0864086156675, 993.8441293915213, 693.9040657017824, 1220.308777673239, 926.7227125709428, 2266.0296492453817, 811.1219672438313, 914.1003680573488, 4896.274538240292, 5266.870521835514, 938.2151837627202, 1608.7215281652557, 1873.2061208299076, 2229.2936039547512, 1144.2167118772345, 1057.1825096799525, 1870.8540722618432, 1762.4235156688092, 2946.054396314793, 1741.8240058130427, 548.6285137029447, 639.8051538406289, 475.95694911124366, 415.1820958572788, 415.1814937938192, 676.8790779487477, 532.0271750224579, 220.22248024081804, 1291.9630366592696, 67.603840804861, 67.6122767259478, 55.982860455335825, 507.95907558611304, 696.5709648795107, 45.59193297679362, 1510.728790903123, 58.682678493396715, 22.19354854873629, 65.73748781194116, 21.464187719775065, 72.81334098360067, 20.951939113310104, 22.273095496352486, 18.633095183837973, 18.632949756685417, 17.294957533296618, 28.25031636379607, 28.256957167828066, 94.65242127676294, 14.62648890090946, 782.3989014054794, 775.4560195712924, 1682.3565177014486, 529.0539418788328, 535.3148831528125, 743.1540907498406, 608.2922936707294, 2084.384824977848, 151.66668342738637, 265.137074044381, 1480.1067584849131, 2085.091360054971, 1237.932397118646, 1798.5696430186858, 1762.4235156688092, 1079.7184975332734, 2229.2936039547512, 1870.8540722618432, 5266.870521835514, 1634.9210870515435, 1517.3629713840314, 3988.514670200046, 1453.5401958570167], \"Category\": [\"Default\", \"Default\", \"Default\", \"Default\", \"Default\", \"Default\", \"Default\", \"Default\", \"Default\", \"Default\", \"Default\", \"Default\", \"Default\", \"Default\", \"Default\", \"Default\", \"Default\", \"Default\", \"Default\", \"Default\", \"Default\", \"Default\", \"Default\", \"Default\", \"Default\", \"Default\", \"Default\", \"Default\", \"Default\", \"Default\", \"Topic1\", \"Topic1\", \"Topic1\", \"Topic1\", \"Topic1\", \"Topic1\", \"Topic1\", \"Topic1\", \"Topic1\", \"Topic1\", \"Topic1\", \"Topic1\", \"Topic1\", \"Topic1\", \"Topic1\", \"Topic1\", \"Topic1\", \"Topic1\", \"Topic1\", \"Topic1\", \"Topic1\", \"Topic1\", \"Topic1\", \"Topic1\", \"Topic1\", \"Topic1\", \"Topic1\", \"Topic1\", \"Topic1\", \"Topic1\", \"Topic1\", \"Topic1\", \"Topic1\", \"Topic1\", \"Topic1\", \"Topic1\", \"Topic1\", \"Topic1\", \"Topic1\", \"Topic1\", \"Topic1\", \"Topic1\", \"Topic1\", \"Topic1\", \"Topic1\", \"Topic1\", \"Topic1\", \"Topic1\", \"Topic1\", \"Topic1\", \"Topic1\", \"Topic1\", \"Topic1\", \"Topic1\", \"Topic1\", \"Topic1\", \"Topic1\", \"Topic1\", \"Topic1\", \"Topic1\", \"Topic2\", \"Topic2\", \"Topic2\", \"Topic2\", \"Topic2\", \"Topic2\", \"Topic2\", \"Topic2\", \"Topic2\", \"Topic2\", \"Topic2\", \"Topic2\", \"Topic2\", \"Topic2\", \"Topic2\", \"Topic2\", \"Topic2\", \"Topic2\", \"Topic2\", \"Topic2\", \"Topic2\", \"Topic2\", \"Topic2\", \"Topic2\", \"Topic2\", \"Topic2\", \"Topic2\", \"Topic2\", \"Topic2\", \"Topic2\", \"Topic2\", \"Topic2\", \"Topic2\", \"Topic2\", \"Topic2\", \"Topic2\", \"Topic2\", \"Topic2\", \"Topic2\", \"Topic2\", \"Topic2\", \"Topic2\", \"Topic2\", \"Topic2\", \"Topic2\", \"Topic2\", \"Topic2\", \"Topic2\", \"Topic2\", \"Topic2\", \"Topic2\", \"Topic2\", \"Topic2\", \"Topic2\", \"Topic2\", \"Topic2\", \"Topic2\", \"Topic2\", \"Topic2\", \"Topic2\", \"Topic2\", \"Topic2\", \"Topic2\", \"Topic2\", \"Topic2\", \"Topic2\", \"Topic2\", \"Topic2\", \"Topic2\", \"Topic2\", \"Topic2\", \"Topic2\", \"Topic2\", \"Topic2\", \"Topic2\", \"Topic2\", \"Topic2\", \"Topic2\", \"Topic2\", \"Topic2\", \"Topic2\", \"Topic2\", \"Topic3\", \"Topic3\", \"Topic3\", \"Topic3\", \"Topic3\", \"Topic3\", \"Topic3\", \"Topic3\", \"Topic3\", \"Topic3\", \"Topic3\", \"Topic3\", \"Topic3\", \"Topic3\", \"Topic3\", \"Topic3\", \"Topic3\", \"Topic3\", \"Topic3\", \"Topic3\", \"Topic3\", \"Topic3\", \"Topic3\", \"Topic3\", \"Topic3\", \"Topic3\", \"Topic3\", \"Topic3\", \"Topic3\", \"Topic3\", \"Topic3\", \"Topic3\", \"Topic3\", \"Topic3\", \"Topic3\", \"Topic3\", \"Topic3\", \"Topic3\", \"Topic3\", \"Topic3\", \"Topic3\", \"Topic3\", \"Topic3\", \"Topic3\", \"Topic3\", \"Topic3\", \"Topic3\", \"Topic3\", \"Topic3\", \"Topic3\", \"Topic3\", \"Topic3\", \"Topic3\", \"Topic3\", \"Topic3\", \"Topic3\", \"Topic3\", \"Topic3\", \"Topic3\", \"Topic3\", \"Topic3\", \"Topic3\", \"Topic3\", \"Topic3\", \"Topic3\", \"Topic3\", \"Topic3\", \"Topic3\", \"Topic3\", \"Topic3\", \"Topic3\", \"Topic3\", \"Topic3\", \"Topic3\", \"Topic3\", \"Topic3\", \"Topic3\", \"Topic3\", \"Topic3\", \"Topic3\", \"Topic4\", \"Topic4\", \"Topic4\", \"Topic4\", \"Topic4\", \"Topic4\", \"Topic4\", \"Topic4\", \"Topic4\", \"Topic4\", \"Topic4\", \"Topic4\", \"Topic4\", \"Topic4\", \"Topic4\", \"Topic4\", \"Topic4\", \"Topic4\", \"Topic4\", \"Topic4\", \"Topic4\", \"Topic4\", \"Topic4\", \"Topic4\", \"Topic4\", \"Topic4\", \"Topic4\", \"Topic4\", \"Topic4\", \"Topic4\", \"Topic4\", \"Topic4\", \"Topic4\", \"Topic4\", \"Topic4\", \"Topic4\", \"Topic4\", \"Topic4\", \"Topic4\", \"Topic4\", \"Topic4\", \"Topic4\", \"Topic4\", \"Topic4\", \"Topic4\", \"Topic4\", \"Topic4\", \"Topic4\", \"Topic4\", \"Topic4\", \"Topic4\", \"Topic4\", \"Topic4\"], \"logprob\": [30.0, 29.0, 28.0, 27.0, 26.0, 25.0, 24.0, 23.0, 22.0, 21.0, 20.0, 19.0, 18.0, 17.0, 16.0, 15.0, 14.0, 13.0, 12.0, 11.0, 10.0, 9.0, 8.0, 7.0, 6.0, 5.0, 4.0, 3.0, 2.0, 1.0, -4.1194000244140625, -4.111299991607666, -4.096799850463867, -4.104400157928467, -5.161300182342529, -3.859100103378296, -6.691999912261963, -6.8632001876831055, -5.171500205993652, -4.080599784851074, -7.132199764251709, -7.105800151824951, -7.106299877166748, -7.270100116729736, -3.865999937057495, -7.5441999435424805, -7.544400215148926, -4.731299877166748, -6.532800197601318, -6.3649001121521, -7.5929999351501465, -6.978499889373779, -7.632500171661377, -7.589099884033203, -6.548099994659424, -3.7327001094818115, -7.730899810791016, -5.825200080871582, -4.008600234985352, -6.468599796295166, -4.002999782562256, -5.2230000495910645, -3.4605000019073486, -5.086699962615967, -5.732399940490723, -3.858299970626831, -4.836900234222412, -3.3403000831604004, -3.9609999656677246, -4.991300106048584, -3.940000057220459, -4.921199798583984, -4.757999897003174, -4.869900226593018, -6.178500175476074, -4.963200092315674, -5.652699947357178, -5.430500030517578, -4.5883002281188965, -5.038599967956543, -4.121099948883057, -3.68969988822937, -3.990600109100342, -4.291399955749512, -4.162399768829346, -4.719699859619141, -4.635300159454346, -4.7835001945495605, -4.763000011444092, -4.88070011138916, -7.000899791717529, -6.801700115203857, -6.453800201416016, -7.012400150299072, -7.422100067138672, -7.4222002029418945, -7.422399997711182, -7.289100170135498, -7.567800045013428, -7.5680999755859375, -7.390999794006348, -6.91510009765625, -7.702099800109863, -6.613800048828125, -6.773900032043457, -7.752299785614014, -7.28879976272583, -6.829100131988525, -7.0278000831604, -6.972700119018555, -8.073800086975098, -7.072199821472168, -8.331999778747559, -8.027799606323242, -7.826000213623047, -6.597899913787842, -6.191999912261963, -8.11989974975586, -8.472599983215332, -8.472900390625, -3.80430006980896, -6.154300212860107, -6.081900119781494, -6.8755998611450195, -3.614799976348877, -5.380099773406982, -5.3856000900268555, -5.748300075531006, -6.274799823760986, -5.803199768066406, -6.0578999519348145, -6.166600227355957, -6.1722002029418945, -6.342400074005127, -5.539700031280518, -6.629899978637695, -5.666800022125244, -4.751699924468994, -6.0406999588012695, -4.9710001945495605, -3.7953999042510986, -6.020699977874756, -6.376800060272217, -6.630799770355225, -4.704599857330322, -4.948400020599365, -3.4667999744415283, -4.122499942779541, -6.005899906158447, -5.76200008392334, -4.384900093078613, -4.059000015258789, -4.637199878692627, -5.185800075531006, -5.849899768829346, -4.681000232696533, -5.446100234985352, -5.251699924468994, -4.826700210571289, -5.02810001373291, -5.207499980926514, -4.817200183868408, -5.253300189971924, -5.401700019836426, -4.851900100708008, -4.855800151824951, -5.292699813842773, -4.7932000160217285, -4.994699954986572, -5.213399887084961, -5.289400100708008, -5.383800029754639, -6.727399826049805, -6.811299800872803, -6.605899810791016, -7.305799961090088, -7.4721999168396, -7.2617998123168945, -7.154099941253662, -7.046599864959717, -7.211599826812744, -7.656799793243408, -7.014200210571289, -7.00439977645874, -7.192200183868408, -6.686600208282471, -7.754799842834473, -7.192299842834473, -7.076399803161621, -7.150700092315674, -6.241199970245361, -5.825900077819824, -8.052300453186035, -8.183600425720215, -6.239500045776367, -5.993800163269043, -7.576300144195557, -6.998000144958496, -6.739299774169922, -6.577300071716309, -7.24370002746582, -8.232600212097168, -5.623799800872803, -5.127500057220459, -6.696199893951416, -6.458700180053711, -5.579699993133545, -6.3471999168396, -4.3420000076293945, -5.26800012588501, -6.332699775695801, -6.674900054931641, -4.94290018081665, -5.735799789428711, -5.826700210571289, -5.53410005569458, -5.280799865722656, -6.4191999435424805, -5.327400207519531, -4.471799850463867, -6.277299880981445, -4.9039998054504395, -3.7904999256134033, -5.705699920654297, -4.99970006942749, -4.795400142669678, -4.758399963378906, -5.8292999267578125, -4.183800220489502, -3.713900089263916, -5.29580020904541, -4.652900218963623, -5.817399978637695, -4.902900218963623, -5.177499771118164, -4.789400100708008, -4.985899925231934, -4.45419979095459, -5.17140007019043, -5.106599807739258, -4.207200050354004, -4.184899806976318, -5.107399940490723, -4.865099906921387, -4.881700038909912, -4.817699909210205, -5.098899841308594, -5.1545000076293945, -5.035299777984619, -5.07480001449585, -5.043000221252441, -5.149600028991699, -4.605100154876709, -4.451399803161621, -4.748899936676025, -4.885700225830078, -4.886099815368652, -4.398200035095215, -4.639699935913086, -5.522500038146973, -3.7553999423980713, -6.7083001136779785, -6.709000110626221, -6.897799968719482, -4.6975998878479, -4.383600234985352, -7.111400127410889, -3.615600109100342, -6.864500045776367, -7.843999862670898, -6.758399963378906, -7.878900051116943, -6.658199787139893, -7.905700206756592, -7.844600200653076, -8.02560043334961, -8.025799751281738, -8.103799819946289, -7.616099834442139, -7.617499828338623, -6.411099910736084, -8.279000282287598, -4.324100017547607, -4.335400104522705, -3.59089994430542, -4.730100154876709, -4.718800067901611, -4.3979997634887695, -4.643499851226807, -3.475600004196167, -6.011000156402588, -5.494200229644775, -3.928299903869629, -3.7004001140594482, -4.263899803161621, -3.960400104522705, -4.116799831390381, -4.567299842834473, -4.013500213623047, -4.183599948883057, -3.473099946975708, -4.3933000564575195, -4.459499835968018, -4.321300029754639, -4.819799900054932], \"loglift\": [30.0, 29.0, 28.0, 27.0, 26.0, 25.0, 24.0, 23.0, 22.0, 21.0, 20.0, 19.0, 18.0, 17.0, 16.0, 15.0, 14.0, 13.0, 12.0, 11.0, 10.0, 9.0, 8.0, 7.0, 6.0, 5.0, 4.0, 3.0, 2.0, 1.0, 1.2838, 1.2827, 1.2822, 1.2803, 1.2803, 1.2791, 1.2765, 1.2764, 1.2747, 1.2745, 1.2741, 1.2734, 1.273, 1.2719, 1.2714, 1.2687, 1.2686, 1.2678, 1.2664, 1.2663, 1.2661, 1.2658, 1.2658, 1.2657, 1.2655, 1.2649, 1.2643, 1.2637, 1.2634, 1.2628, 1.2627, 1.258, 1.2395, 1.252, 1.2506, 1.219, 1.2387, 1.2032, 1.2142, 1.2126, 1.1799, 1.1687, 1.1104, 1.1035, 1.2312, 1.021, 1.1129, 1.0607, 0.8395, 0.9581, 0.6624, 0.2621, 0.2393, 0.2414, -0.1376, 0.6276, -0.1142, 0.2748, -0.0895, 0.5142, 1.3124, 1.3106, 1.3091, 1.3084, 1.3063, 1.3062, 1.306, 1.3044, 1.304, 1.3037, 1.3023, 1.3022, 1.3001, 1.2978, 1.2948, 1.2921, 1.2895, 1.2888, 1.2879, 1.2876, 1.287, 1.286, 1.2811, 1.2807, 1.2795, 1.2795, 1.2791, 1.2779, 1.2768, 1.2766, 1.2517, 1.2672, 1.2616, 1.2684, 1.2234, 1.243, 1.2373, 1.2309, 1.246, 1.2261, 1.2353, 1.2249, 1.2226, 1.2307, 1.1701, 1.2492, 1.1626, 1.0703, 1.1895, 1.0651, 0.8781, 1.1479, 1.2011, 1.2443, 0.8393, 0.8881, 0.5579, 0.6727, 1.1092, 1.0303, 0.6007, 0.4738, 0.6021, 0.7598, 1.0392, 0.4569, 0.836, 0.6243, 0.2316, 0.3861, 0.4787, 0.0563, 0.406, 0.5539, -0.0403, -0.0723, 0.4104, -0.8413, -0.4736, -0.1669, -0.0064, 0.2932, 1.3453, 1.3434, 1.3379, 1.3377, 1.3363, 1.3363, 1.336, 1.3359, 1.3354, 1.3327, 1.3315, 1.3311, 1.3309, 1.3306, 1.3264, 1.3263, 1.3254, 1.3247, 1.3237, 1.3228, 1.3217, 1.3184, 1.3183, 1.3155, 1.3143, 1.3127, 1.3123, 1.3118, 1.3063, 1.3046, 1.3005, 1.2799, 1.2976, 1.2912, 1.2716, 1.286, 1.2012, 1.1993, 1.2447, 1.2777, 1.0776, 1.1638, 1.1745, 1.1292, 1.0825, 1.2371, 1.0724, 0.9084, 1.2095, 0.9603, 0.7306, 1.0939, 0.9486, 0.8765, 0.8637, 1.1104, 0.6897, 0.5159, 0.8821, 0.6301, 1.0578, 0.7166, 0.8012, 0.6247, 0.7035, 0.3411, 0.6512, 0.5965, -0.1824, -0.2331, 0.5696, 0.2727, 0.1039, -0.0062, 0.3796, 0.4032, -0.0485, -0.0282, -0.5102, -0.0913, 1.6085, 1.6085, 1.6068, 1.6066, 1.6062, 1.6053, 1.6046, 1.6039, 1.6017, 1.599, 1.5982, 1.5982, 1.593, 1.5913, 1.5899, 1.5851, 1.5844, 1.5772, 1.577, 1.5757, 1.5749, 1.573, 1.573, 1.5705, 1.5703, 1.5668, 1.5638, 1.5622, 1.5597, 1.5592, 1.5345, 1.5322, 1.5021, 1.5198, 1.5194, 1.5121, 1.4668, 1.4032, 1.4884, 1.4466, 1.2928, 1.1781, 1.1359, 1.0658, 0.9298, 0.9693, 0.7981, 0.8033, 0.4788, 0.7284, 0.7367, -0.0914, 0.4195]}, \"token.table\": {\"Topic\": [1, 2, 3, 4, 1, 2, 3, 4, 1, 2, 4, 1, 2, 3, 4, 1, 2, 3, 4, 1, 2, 3, 4, 1, 2, 3, 4, 1, 2, 3, 4, 1, 2, 3, 1, 2, 3, 4, 1, 3, 4, 1, 2, 3, 4, 1, 2, 3, 4, 1, 1, 2, 3, 4, 1, 2, 3, 4, 1, 2, 3, 4, 1, 2, 4, 1, 2, 3, 4, 2, 1, 2, 3, 4, 2, 3, 3, 1, 2, 3, 4, 4, 2, 1, 2, 3, 4, 1, 2, 3, 4, 3, 2, 3, 3, 1, 3, 4, 1, 2, 3, 4, 1, 2, 3, 4, 1, 2, 3, 4, 1, 1, 2, 3, 4, 1, 2, 3, 4, 1, 2, 3, 4, 2, 3, 4, 1, 2, 3, 4, 3, 1, 2, 3, 4, 4, 4, 1, 2, 3, 4, 1, 2, 3, 4, 1, 2, 3, 4, 4, 1, 2, 3, 2, 2, 4, 4, 2, 1, 2, 3, 4, 2, 3, 4, 1, 2, 3, 4, 1, 3, 1, 2, 3, 4, 1, 4, 1, 2, 3, 4, 3, 1, 1, 2, 3, 4, 4, 1, 2, 1, 2, 3, 4, 3, 4, 1, 2, 3, 4, 1, 2, 3, 4, 3, 1, 2, 3, 4, 1, 2, 3, 4, 2, 1, 2, 3, 4, 4, 1, 2, 3, 4, 1, 2, 4, 1, 2, 3, 4, 1, 2, 3, 4, 1, 2, 3, 4, 1, 2, 3, 4, 1, 1, 2, 3, 1, 2, 3, 4, 1, 2, 3, 4, 1, 2, 3, 4, 1, 2, 3, 4, 1, 2, 3, 4, 1, 3, 1, 2, 3, 4, 1, 2, 3, 4, 3, 1, 2, 3, 4, 4, 1, 2, 3, 4, 1, 2, 3, 4, 1, 2, 3, 4, 1, 2, 3, 4, 1, 4, 1, 2, 3, 1, 2, 3, 1, 2, 3, 4, 1, 3, 1, 2, 3, 4, 1, 2, 3, 4, 1, 2, 3, 4, 1, 2, 3, 4, 1, 2, 3, 4, 1, 2, 3, 1, 2, 3, 4, 1, 4, 2, 1, 2, 1, 2, 3, 4, 1, 2, 3, 4, 1, 2, 3, 4, 1, 3, 1, 2, 3, 4, 1, 3, 1, 2, 3, 4, 1, 2, 3, 1, 2, 3, 4, 1, 4, 1, 2, 3, 4, 2, 1, 2, 3, 4, 1, 2, 3, 4, 1, 2, 3, 4, 1, 1, 2, 3, 4, 2, 3, 4, 1, 2, 3, 4, 1, 2, 3, 4, 1, 2, 3, 4, 1, 3, 1, 2, 3, 4, 1, 2, 3, 4, 1, 3, 1, 2, 3, 1, 2, 3, 4, 2, 4, 1, 2, 3, 4, 1, 2, 3, 4, 1, 2, 3, 4, 1, 2, 3, 4, 3, 4, 3, 2, 1, 2, 3, 4, 1, 2, 3, 4, 1, 2, 3, 4, 1, 2, 3, 4, 1, 2, 3, 4, 1, 2, 1, 2, 3, 4, 1, 2, 1, 2, 3, 4, 1, 2, 3, 4, 1, 2, 3, 4, 1, 2, 3, 4, 1, 2, 3, 4, 1, 2, 3, 4, 1, 2, 3, 4, 1, 2, 3, 4, 1, 2, 3, 4, 1, 2, 3, 4, 1, 3, 4, 1, 2, 3, 4, 1, 2, 3, 4, 1, 2, 3, 4, 1, 2, 3, 4, 2, 3, 4, 1, 2, 3, 4, 2, 2, 3, 4, 1, 3, 1, 1, 2, 3, 4, 1, 2, 3, 4, 1, 2, 3, 1, 2, 3, 4, 1, 2, 3, 4, 2, 3, 4, 1, 2, 3, 4, 1, 1, 2, 3, 4, 1, 2, 3, 4, 3, 1, 2, 3, 4, 2, 1, 2, 4, 1, 3, 1, 2, 3, 4, 1, 2, 3, 4, 1, 2, 3, 4, 1, 2, 3, 4, 1, 2, 3, 4, 1, 3, 4, 1, 2, 3, 4, 1, 3, 4, 1, 2, 3, 4, 1, 2, 3, 4, 2, 1, 2, 1, 2, 3, 4, 1, 2, 3, 4, 1, 2, 3, 1, 2, 3, 4, 1, 2, 3, 4, 1, 2, 3, 4, 1, 2, 3, 4, 2, 1, 2, 1, 3, 4, 1, 2, 3, 4, 1, 2, 3, 4, 1, 2, 3, 4, 3, 1, 2, 3, 4, 1, 2, 3, 4, 1, 2, 3, 4, 2, 3, 1, 2, 3, 4, 1, 2, 3, 1, 2, 3, 4, 1, 2, 3, 4, 1, 2, 3, 4, 1, 2, 3, 4, 4, 3, 1, 2, 3, 4, 1, 2, 3, 4, 2, 3, 4, 1, 2, 3, 4, 1, 1, 2, 3, 4, 1, 2, 3, 4, 2, 3], \"Freq\": [0.9867281080777306, 0.00460013103998942, 0.00690019655998413, 0.00230006551999471, 0.9526541731116617, 0.02857962519334985, 0.009526541731116616, 0.009526541731116616, 0.0045408624900894696, 0.0045408624900894696, 0.9899080228395043, 0.9767403214924578, 0.0007108735964282808, 0.014928345524993896, 0.007819609560711089, 0.9536528648766873, 0.008425204107030052, 0.015646807627341525, 0.02206601075650728, 0.7204197533984765, 0.09683850045682169, 0.17166825080982026, 0.011738000055372325, 0.07932932750597178, 0.4967836574964135, 0.35633173338747987, 0.06762500049689399, 0.006990663843927213, 0.013981327687854426, 0.9647116104619554, 0.02097199153178164, 0.9968905084635892, 0.0008104800881817798, 0.0016209601763635597, 0.3474487594419581, 0.6148671866529034, 0.037087227131444966, 0.0019519593227076298, 0.0024085817042162525, 0.0024085817042162525, 0.9947442438413122, 0.8328846375289886, 0.06737620992058943, 0.0974804739276613, 0.002867072762578274, 0.23274033024318766, 0.004391326985720522, 0.7553082415439298, 0.008782653971441044, 0.9809847820832819, 0.028578071685311422, 0.1543215871006817, 0.7973282000201887, 0.020004650179717996, 0.07253870629439403, 0.21149839666558262, 0.37755085685756895, 0.3390966029183721, 0.1351962027885544, 0.4633286533066083, 0.31968268784376924, 0.08027274540570417, 0.009957201220892017, 0.9758057196474177, 0.009957201220892017, 0.015112568128129293, 0.876528951431499, 0.0957129314781522, 0.015112568128129293, 0.984711702871225, 0.013496913999367272, 0.8503055819601382, 0.09785262649541272, 0.04049074199810182, 0.9660956116951286, 0.040253983820630355, 0.9770434245405931, 0.013469832150372672, 0.8081899290223603, 0.1346983215037267, 0.040409496451118014, 0.9660306196844481, 0.9384050196225898, 0.0018680594010582314, 0.0074722376042329255, 0.07845849484444571, 0.9116129877164169, 0.007668722424356385, 0.0524029365664353, 0.016615565252772167, 0.9253591725390038, 0.9884640357578967, 0.026507214143704622, 0.9542597091733663, 0.9774997983479137, 0.01704080361826915, 0.01704080361826915, 0.9713258062413416, 0.0339447058938785, 0.09429084970521806, 0.022629803929252335, 0.8486176473469625, 0.03837754142165613, 0.9307985792565853, 0.025775960656336208, 0.004582393005570881, 0.013780637725436815, 0.0019686625322052594, 0.003937325064410519, 0.9803939410382191, 0.9710888978683863, 0.5173364175168569, 0.039854064756854164, 0.16018268334966385, 0.28281057490921513, 0.011839183822289061, 0.9056975624051132, 0.053276327200300774, 0.023678367644578122, 0.09166340674118728, 0.3570609448639272, 0.45618532657242045, 0.09486096744146126, 0.9529287418523331, 0.032859611788011486, 0.032859611788011486, 0.12046960991093969, 0.4302486068247846, 0.13230144659862128, 0.31730834753327863, 0.9891852597193104, 0.024337419762639124, 0.035399883291111454, 0.9292469363916757, 0.013274956234166795, 0.9462209233410648, 0.9910679512040745, 0.00659340586476773, 0.03956043518860638, 0.07252746451244503, 0.8835163858788758, 0.06388205078375683, 0.9085447222578749, 0.021294016927918942, 0.007098005642639647, 0.04912689313288435, 0.022925883462012693, 0.7696546590818547, 0.1572060580252299, 0.9870167168149041, 0.0046433469684605535, 0.02321673484230277, 0.9704595164082558, 0.9894938181398297, 0.9820377982556185, 0.9783738510939594, 0.9660230800308953, 0.9582329754292621, 0.03205432136166773, 0.7723565051906605, 0.140428455489211, 0.05495026519143039, 0.015214477447325531, 0.973726556628834, 0.015214477447325531, 0.009026946497713592, 0.028370403278528432, 0.039976477347017335, 0.9233276703375617, 0.05405288599112665, 0.9405202162456037, 0.9959150214641624, 0.0008031572753743246, 0.0032126291014972982, 0.0008031572753743246, 0.0018227269910755144, 0.9952089371272308, 0.029938507083555534, 0.8592351532980439, 0.02395080566684443, 0.08981552125066661, 0.9937221828247207, 0.9913263947231717, 0.019200736881299224, 0.9216353703023628, 0.019200736881299224, 0.03840147376259845, 0.9428415553392221, 0.9759184687813225, 0.9884386198753192, 0.03204966864146959, 0.9550801255157938, 0.006409933728293918, 0.006409933728293918, 0.027467493909535734, 0.9613622868337507, 0.07914889706396631, 0.21985804739990644, 0.6243968546157342, 0.0756311683055678, 0.00992898268062589, 0.0019857965361251783, 0.015224440110293032, 0.9730403027013373, 0.9621339487405407, 0.020629587917124173, 0.128095348229585, 0.04029966011717281, 0.8112705387873717, 0.8376474470641725, 0.005162696129825409, 0.14713683970002414, 0.009034718227194465, 0.988389345211568, 0.9810137306987842, 0.008824711220678719, 0.0044123556103393595, 0.005883140813785812, 0.9545655842086059, 0.050347160337820586, 0.07365603086458938, 0.8586987902061622, 0.01771474160034428, 0.060628715741881424, 0.9229037840708616, 0.006736523971320158, 0.9646435765708644, 0.002065617936982579, 0.028918651117756107, 0.002065617936982579, 0.03049837345034137, 0.9454495769605825, 0.0060996746900682745, 0.01829902407020482, 0.13125979911501987, 0.014819654738792567, 0.7621536722807606, 0.09103502196686862, 0.06812320515265478, 0.06812320515265478, 0.8574127545075517, 0.009396304158986868, 0.9797828994219819, 0.011453680027066922, 0.022907360054133845, 0.9621091222736214, 0.1522364956248885, 0.28156593234697247, 0.5144543645254852, 0.05106365213750178, 0.7963546994634044, 0.13954251531382916, 0.0553358250382426, 0.007217716309335992, 0.048543054163757954, 0.521617182014199, 0.363190305243389, 0.06663637435206773, 0.3507571403591785, 0.03485006612575111, 0.4324918278195732, 0.18202264753449862, 0.24625629492574927, 0.16573652546773862, 0.5361274649745876, 0.05166685206889017, 0.010282903235041784, 0.9871587105640113, 0.9936507012430795, 0.0022895177447997224, 0.0022895177447997224, 0.0022895177447997224, 0.015075220521775469, 0.022612830782663202, 0.9346636723500791, 0.030150441043550937, 0.9656496899103566, 0.056556886642457053, 0.11954069222155696, 0.6748264883474989, 0.14910451933011407, 0.982945460679579, 0.05001303591942574, 0.21023998432795638, 0.21394465365532123, 0.5251368771539703, 0.009622280440360103, 0.9526057635956501, 0.009622280440360103, 0.028866841321080305, 0.03169491027839661, 0.010564970092798871, 0.010564970092798871, 0.9508473083518985, 0.838892490170499, 0.10130022522813574, 0.003165632038379242, 0.05381574465244711, 0.9717762843268885, 0.9824435470545495, 0.03112127923107639, 0.03112127923107639, 0.9232646171885995, 0.08013051657606614, 0.08413704240486944, 0.8373638982198911, 0.9925061664127447, 0.0012437420631738656, 0.0018656130947607983, 0.004353097221108529, 0.015369182518451947, 0.9836276811809246, 0.9753474982913402, 0.004373755597719014, 0.013121266793157043, 0.004373755597719014, 0.8890235194698175, 0.00805274927055994, 0.07086419358092748, 0.033821546936351754, 0.2194099172694941, 0.4857981136623835, 0.28667427146890107, 0.008541505295162788, 0.8987349415842111, 0.021979930636570378, 0.04823373667469611, 0.031748788697268326, 0.05901415307578402, 0.917401834178097, 0.010729846013778912, 0.010729846013778912, 0.014112455147563555, 0.9596469500343218, 0.014112455147563555, 0.3073335382389936, 0.03802064390585488, 0.6408062691632624, 0.013465644716656937, 0.03539783367812265, 0.9557415093093116, 0.9916142286575408, 0.012170944555107676, 0.9858465089637218, 0.024042569303539155, 0.19534587559125563, 0.7588435936429546, 0.02253990872206796, 0.03563658126472104, 0.9027933920395995, 0.005939430210786839, 0.05345487189708155, 0.05860274065674193, 0.0716255719137957, 0.8660182785940753, 0.006511415628526882, 0.9716219439402071, 0.026195689665054603, 0.6396241982470319, 0.02741246563915851, 0.33061094922379053, 0.002492042330832592, 0.018354354369282115, 0.9727807815719521, 0.015315604816736786, 0.4014876405530286, 0.4693138904557201, 0.1148670361255259, 0.9789576898945287, 0.008899615362677533, 0.008899615362677533, 0.04485725873998862, 0.25568637481793516, 0.25658351999273493, 0.44274114376368773, 0.03538951466219969, 0.9555168958793917, 0.24059108426207043, 0.46525168926060817, 0.21506147005769113, 0.07903968557675828, 0.9916885959649998, 0.2523990381766789, 0.6407653600770177, 0.1023661733781577, 0.0042978164395409725, 0.0289155889302253, 0.9252988457672096, 0.009638529643408432, 0.0289155889302253, 0.21993004064732763, 0.06961088442507159, 0.6123740122611371, 0.09886763295155096, 0.9882651832991202, 0.9344053957995961, 0.0017553013070750083, 0.005265903921225025, 0.059095144004858616, 0.0021010303597148944, 0.004202060719429789, 0.9937873601451451, 0.019212400180120753, 0.9167059514514759, 0.05763720054036226, 0.005489257194320215, 0.09223176972637186, 0.2709308235712173, 0.5750074393878495, 0.06196822028490609, 0.03566270766203311, 0.8844351500184212, 0.042795249194439736, 0.042795249194439736, 0.015945771862762848, 0.9886378554912966, 0.46139083047667373, 0.24114503335017792, 0.16478243945595492, 0.13262976834259785, 0.9278863092030928, 0.009026131412481448, 0.0523515621923924, 0.010831357694977737, 0.9638372469889676, 0.031472236636374454, 0.9729124335246693, 0.016630981769652466, 0.008315490884826233, 0.24322569837361466, 0.014863792678387562, 0.016215046558240978, 0.7262989604212104, 0.9422028816070707, 0.0502508203523771, 0.023143795410808878, 0.061716787762157006, 0.8871788240810069, 0.023143795410808878, 0.04015377164903151, 0.39170413975994, 0.48266472451590936, 0.0860437963907818, 0.9847563290535146, 0.004349081579416153, 0.006834271053368241, 0.004349081579416153, 0.01484218348287873, 0.01484218348287873, 0.9647419263871175, 0.01484218348287873, 0.9738794042752699, 0.02213362282443795, 0.9766431008392799, 0.9756452630499741, 0.9930698489433001, 0.0015914580912552885, 0.003978645228138221, 0.0007957290456276443, 0.12595362003063604, 0.6167062432611141, 0.22951548538915897, 0.027989693340141338, 0.012383558467323351, 0.48639865757764494, 0.19813693547717362, 0.3033971824494221, 0.0117586620398153, 0.9132560850923216, 0.0235173240796306, 0.050954202172532964, 0.16676875263862523, 0.14164653669626823, 0.245877007095409, 0.4452511889358167, 0.019396881466688602, 0.9698440733344301, 0.001477368754003235, 0.001477368754003235, 0.00295473750800647, 0.9927918026901739, 0.9907633194201853, 0.9384901328796521, 0.010904376174368992, 0.016356564261553488, 0.9595851033444712, 0.016356564261553488, 0.007740159521790798, 0.0023220478565372394, 0.0007740159521790798, 0.989192386884864, 0.5356003582103728, 0.24773697350447207, 0.14567631892692548, 0.07109353288948758, 0.0013456159529324563, 0.0928475007523395, 0.0013456159529324563, 0.9042539203706107, 0.04263121561646655, 0.8384139071238422, 0.07105202602744426, 0.0473680173516295, 0.10397150909660784, 0.12843539358992734, 0.18848311007352972, 0.5787932672169452, 0.36341214605348743, 0.3358548269214694, 0.23595954506790415, 0.06487452212329238, 0.003759206472706166, 0.001879603236353083, 0.003759206472706166, 0.9924305087944278, 0.9464361450038009, 0.012056511401322304, 0.012056511401322304, 0.030141278503305762, 0.9783588752103407, 0.0037816190648660326, 0.01188508848957896, 0.006482775539770342, 0.0015629758435004623, 0.0015629758435004623, 0.9956156123097945, 0.3361615584154795, 0.02969250358243983, 0.6203612355616893, 0.0127253586781885, 0.1554029057379027, 0.4202094571152889, 0.3393999461315795, 0.08516079234437067, 0.9762188619824008, 0.0007063812315357459, 0.01765953078839365, 0.004944668620750221, 0.12536028111675024, 0.7521616867005014, 0.05730755708194297, 0.06447100171718584, 0.9868964827863957, 0.00858170854596866, 0.00858170854596866, 0.035934397386943685, 0.9052703957095428, 0.0529802012756221, 0.00598906623115728, 0.9825548073050986, 0.029206479323465925, 0.9540783245665535, 0.009735493107821975, 0.01750013272619402, 0.9625072999406711, 0.9854735048196732, 0.014265703938182172, 0.04458032480681928, 0.045769133468334465, 0.8951729221209312, 0.007039986727193309, 0.014079973454386618, 0.9715181683526766, 0.007039986727193309, 0.9881113768910694, 0.9670572461283903, 0.023302584244057598, 0.2714203140511211, 0.004846791322341447, 0.10259041632289398, 0.6211970878134289, 0.08644520653270062, 0.5688652300861589, 0.13803347494737678, 0.2063530736587047, 0.01885476007891942, 0.9615927640248905, 0.01885476007891942, 0.3672608100260857, 0.013080522000929079, 0.5282518500375205, 0.09156365400650356, 0.980935965605068, 0.1356146232529946, 0.21081909614783706, 0.4956098049791257, 0.15903896726942093, 0.15882818056392717, 0.17200894243645223, 0.2530706279524815, 0.4165120751717924, 0.9612976341555783, 0.11750937615561356, 0.6475516686022109, 0.22751815383320922, 0.007500598478017887, 0.9780119822350293, 0.0152120203142042, 0.0152120203142042, 0.9583572797948646, 0.9721829196233657, 0.013888327423190938, 0.0037100738215304547, 0.037100738215304546, 0.946068824490266, 0.011130221464591365, 0.1668991616707027, 0.0067143340902006835, 0.17888904397463248, 0.6474536444122088, 0.00986367912667955, 0.07397759345009662, 0.052606288675624266, 0.8647158701055738, 0.31316496193914367, 0.11315530851316714, 0.16025238286729618, 0.41286396349398824, 0.004120943989121225, 0.9066076776066696, 0.004120943989121225, 0.0824188797824245, 0.016256284540859745, 0.9753770724515848, 0.016256284540859745, 0.9880204615911925, 0.001544988993887713, 0.00926993396332628, 0.001544988993887713, 0.9952674538261111, 0.0023734517976775303, 0.0023734517976775303, 0.01692524165174826, 0.9421717852806532, 0.01692524165174826, 0.02256698886899768, 0.24727432285537793, 0.0035324903265053988, 0.7453554588926391, 0.0070649806530107976, 0.979142601227661, 0.031129643188626852, 0.9650189388474324, 0.031037993728926145, 0.020691995819284097, 0.9207938139581423, 0.031037993728926145, 0.766579136243565, 0.010143769288667212, 0.22171381445229765, 0.0014491098983810302, 0.012238454860314194, 0.9668379339648213, 0.02447690972062839, 0.018156816290468388, 0.22525800210362343, 0.2507910250120946, 0.504986453078652, 0.008470143577781654, 0.033880574311126614, 0.9401859371337635, 0.016940287155563307, 0.9194714907273254, 0.010292591314111851, 0.024016046399594322, 0.045973574536366274, 0.06588344927315154, 0.9223682898241214, 0.010980574878858588, 0.957167512644097, 0.9683097093685348, 0.02983120527135873, 0.9695141713191587, 0.01827238746962154, 0.9684365358899416, 0.01827238746962154, 0.022606456316913257, 0.09419356798713857, 0.7836904856529929, 0.09796131070662412, 0.2847190501582585, 0.3074209013336678, 0.3868773804476004, 0.020810030244125206, 0.05791249767073766, 0.10858593313263311, 0.8252530918080117, 0.01085859331326331, 0.994321755765783, 0.23718402393481988, 0.2644961236606476, 0.485149139866677, 0.012937310396444721, 0.2973709656021877, 0.3999848903522384, 0.153920887125076, 0.14973256366589027, 0.14785373527671974, 0.7762321102027786, 0.040659777201097924, 0.03449920489790127, 0.9733326572955061, 0.013518509129104251, 0.9298437097837566, 0.06065600882697649, 0.004516936827540802, 0.005162213517189489, 0.9779835365501037, 0.015045900562309287, 0.0075229502811546434, 0.002871207817779126, 0.002871207817779126, 0.015791642997785193, 0.9790818658626819, 0.3588468697235662, 0.11486897152526855, 0.2044857559218417, 0.3218229863393887, 0.3516567790791399, 0.42769067725841337, 0.15512272976753566, 0.06585078681597793, 0.0048171703939029805, 0.0024085851969514903, 0.0024085851969514903, 0.9947456863409656, 0.9909442965745773, 0.9766496503127887, 0.9750276420517571, 0.009028033722701454, 0.009028033722701454, 0.009028033722701454, 0.1726514283394685, 0.2762422853431496, 0.5222705707268922, 0.02913492853228531, 0.7477424094497817, 0.029259485587165367, 0.22432272283493448, 0.01957155068887065, 0.11183743250783229, 0.66683069132795, 0.20270534642044602, 0.9855526388370368, 0.021387548323121067, 0.0641626449693632, 0.8982770295710848, 0.021387548323121067, 0.003780332857737316, 0.007560665715474632, 0.07749682358361498, 0.9110602187146932, 0.9916407845060706, 0.9905058759662763], \"Term\": [\"accept\", \"accept\", \"accept\", \"accept\", \"add\", \"add\", \"add\", \"add\", \"advice\", \"advice\", \"advice\", \"agreement\", \"agreement\", \"agreement\", \"agreement\", \"alex\", \"alex\", \"alex\", \"alex\", \"also\", \"also\", \"also\", \"also\", \"amp\", \"amp\", \"amp\", \"amp\", \"announce\", \"announce\", \"announce\", \"announce\", \"announcement\", \"announcement\", \"announcement\", \"anthony\", \"anthony\", \"anthony\", \"anthony\", \"anyone_blaming\", \"anyone_blaming\", \"anyone_blaming\", \"around\", \"around\", \"around\", \"around\", \"assist\", \"assist\", \"assist\", \"assist\", \"avoidable_chaos\", \"away\", \"away\", \"away\", \"away\", \"back\", \"back\", \"back\", \"back\", \"bad\", \"bad\", \"bad\", \"bad\", \"battle\", \"battle\", \"battle\", \"beat\", \"beat\", \"beat\", \"beat\", \"ben_davies\", \"blame\", \"blame\", \"blame\", \"blame\", \"book_lol\", \"book_lol\", \"books_challenge\", \"bring\", \"bring\", \"bring\", \"bring\", \"bringing_van\", \"broker\", \"bruuunnooooo\", \"bruuunnooooo\", \"bruuunnooooo\", \"bruuunnooooo\", \"buy\", \"buy\", \"buy\", \"buy\", \"calamitous_mess\", \"called_stars\", \"called_stars\", \"campaign_flye\", \"capitalise\", \"capitalise\", \"capitalise\", \"captain\", \"captain\", \"captain\", \"captain\", \"card\", \"card\", \"card\", \"card\", \"catastrophic\", \"catastrophic\", \"catastrophic\", \"catastrophic\", \"caught_nappe\", \"cavani\", \"cavani\", \"cavani\", \"cavani\", \"chelsea\", \"chelsea\", \"chelsea\", \"chelsea\", \"club\", \"club\", \"club\", \"club\", \"collect\", \"collect\", \"collect\", \"come\", \"come\", \"come\", \"come\", \"coming\", \"concede\", \"concede\", \"concede\", \"concede\", \"concentration\", \"continue_paying\", \"contract\", \"contract\", \"contract\", \"contract\", \"control\", \"control\", \"control\", \"control\", \"could\", \"could\", \"could\", \"could\", \"couldnt_hide\", \"cuppymufc\", \"cuppymufc\", \"cuppymufc\", \"darkest_hour\", \"days_ago\", \"days_obviously\", \"de_beek\", \"de_gea_gather\", \"defend\", \"defend\", \"defend\", \"defend\", \"define\", \"define\", \"define\", \"deserve\", \"deserve\", \"deserve\", \"deserve\", \"despair\", \"despair\", \"detail\", \"detail\", \"detail\", \"detail\", \"devastate\", \"devastate\", \"dey\", \"dey\", \"dey\", \"dey\", \"dickheads\", \"download\", \"drag\", \"drag\", \"drag\", \"drag\", \"efforts_blocked\", \"ei\", \"empty_stadium\", \"erik\", \"erik\", \"erik\", \"erik\", \"escape_clause\", \"escape_clause\", \"even\", \"even\", \"even\", \"even\", \"evra\", \"evra\", \"evra\", \"evra\", \"faces_say\", \"fan\", \"fan\", \"fan\", \"fan\", \"fee\", \"fee\", \"fee\", \"fee\", \"feet_away\", \"final\", \"final\", \"final\", \"final\", \"finalising_deal\", \"first\", \"first\", \"first\", \"first\", \"five\", \"five\", \"five\", \"force\", \"force\", \"force\", \"force\", \"foul\", \"foul\", \"foul\", \"foul\", \"four\", \"four\", \"four\", \"four\", \"fpl\", \"fpl\", \"fpl\", \"fpl\", \"fpl_points_p\", \"future\", \"future\", \"future\", \"game\", \"game\", \"game\", \"game\", \"gary_neville\", \"gary_neville\", \"gary_neville\", \"gary_neville\", \"get\", \"get\", \"get\", \"get\", \"go\", \"go\", \"go\", \"go\", \"goal\", \"goal\", \"goal\", \"goal\", \"graeme_souness\", \"graeme_souness\", \"gt\", \"gt\", \"gt\", \"gt\", \"guess\", \"guess\", \"guess\", \"guess\", \"gws\", \"half\", \"half\", \"half\", \"half\", \"hammer_home\", \"harry\", \"harry\", \"harry\", \"harry\", \"harryyyy\", \"harryyyy\", \"harryyyy\", \"harryyyy\", \"heres\", \"heres\", \"heres\", \"heres\", \"heungmin\", \"heungmin\", \"heungmin\", \"heungmin\", \"heungmin_statue\", \"heungmins_cross\", \"highlight\", \"highlight\", \"highlight\", \"hit\", \"hit\", \"hit\", \"hour\", \"hour\", \"hour\", \"hour\", \"hyperlink\", \"hyperlink\", \"jadon\", \"jadon\", \"jadon\", \"jadon\", \"join\", \"join\", \"join\", \"join\", \"lamela\", \"lamela\", \"lamela\", \"lamela\", \"last\", \"last\", \"last\", \"last\", \"laugh\", \"laugh\", \"laugh\", \"laugh\", \"leadership\", \"leadership\", \"leadership\", \"league\", \"league\", \"league\", \"league\", \"leaves_plenty\", \"leaves_plenty\", \"leeching_owner\", \"lesson\", \"lesson\", \"let\", \"let\", \"let\", \"let\", \"life\", \"life\", \"life\", \"life\", \"link\", \"link\", \"link\", \"link\", \"link_gtgt\", \"link_gtgt\", \"live\", \"live\", \"live\", \"live\", \"long_night\", \"long_night\", \"look\", \"look\", \"look\", \"look\", \"loose_ball\", \"loose_ball\", \"loose_ball\", \"maguire\", \"maguire\", \"maguire\", \"maguire\", \"make_splash\", \"make_splash\", \"man\", \"man\", \"man\", \"man\", \"managers_failed\", \"martial\", \"martial\", \"martial\", \"martial\", \"martials\", \"martials\", \"martials\", \"martials\", \"match\", \"match\", \"match\", \"match\", \"matter_chop_hot\", \"medical\", \"medical\", \"medical\", \"medical\", \"messi\", \"messi\", \"messi\", \"min\", \"min\", \"min\", \"min\", \"minute\", \"minute\", \"minute\", \"minute\", \"moment\", \"moment\", \"moment\", \"moment\", \"mondayvibes\", \"mondayvibes\", \"mourinho\", \"mourinho\", \"mourinho\", \"mourinho\", \"move\", \"move\", \"move\", \"move\", \"much_difference\", \"much_difference\", \"mufcs\", \"mufcs\", \"mufcs\", \"mulive\", \"mulive\", \"mulive\", \"mulive\", \"must_improve\", \"must_improve\", \"nee\", \"nee\", \"nee\", \"nee\", \"need\", \"need\", \"need\", \"need\", \"next\", \"next\", \"next\", \"next\", \"nine\", \"nine\", \"nine\", \"nine\", \"nobody_nobody\", \"nobody_nobody\", \"november\", \"oct\", \"official\", \"official\", \"official\", \"official\", \"old\", \"old\", \"old\", \"old\", \"ole\", \"ole\", \"ole\", \"ole\", \"oles\", \"oles\", \"oles\", \"oles\", \"one\", \"one\", \"one\", \"one\", \"oversee\", \"oversee\", \"pain\", \"pain\", \"pain\", \"pain\", \"paperwork\", \"parties_settle\", \"pathetic\", \"pathetic\", \"pathetic\", \"pathetic\", \"patrice\", \"patrice\", \"patrice\", \"patrice\", \"penalty\", \"penalty\", \"penalty\", \"penalty\", \"person\", \"person\", \"person\", \"person\", \"pitch\", \"pitch\", \"pitch\", \"pitch\", \"play\", \"play\", \"play\", \"play\", \"player\", \"player\", \"player\", \"player\", \"playstation\", \"playstation\", \"playstation\", \"playstation\", \"plus\", \"plus\", \"plus\", \"plus\", \"porto\", \"porto\", \"porto\", \"porto\", \"positive\", \"positive\", \"positive\", \"premier\", \"premier\", \"premier\", \"premier\", \"pron\", \"pron\", \"pron\", \"pron\", \"reach\", \"reach\", \"reach\", \"reach\", \"really\", \"really\", \"really\", \"really\", \"receive\", \"receive\", \"receive\", \"red\", \"red\", \"red\", \"red\", \"regui\", \"reject\", \"reject\", \"reject\", \"repeat\", \"repeat\", \"repo\", \"right\", \"right\", \"right\", \"right\", \"roy_keane\", \"roy_keane\", \"roy_keane\", \"roy_keane\", \"roy_keane_waite\", \"said_nah\", \"said_nah\", \"sancho\", \"sancho\", \"sancho\", \"sancho\", \"say\", \"say\", \"say\", \"say\", \"scary\", \"scary\", \"scary\", \"score\", \"score\", \"score\", \"score\", \"scrabbling\", \"season\", \"season\", \"season\", \"season\", \"see\", \"see\", \"see\", \"see\", \"selection\", \"send\", \"send\", \"send\", \"send\", \"serge_make\", \"shall\", \"shall\", \"shall\", \"since_april\", \"since_april\", \"six\", \"six\", \"six\", \"six\", \"sky\", \"sky\", \"sky\", \"sky\", \"solskjaer\", \"solskjaer\", \"solskjaer\", \"solskjaer\", \"son\", \"son\", \"son\", \"son\", \"sonny\", \"sonny\", \"sonny\", \"sonny\", \"sonnyyyyyy\", \"sonnyyyyyy\", \"sonnyyyyyy\", \"soon\", \"soon\", \"soon\", \"soon\", \"sort\", \"sort\", \"sort\", \"space\", \"space\", \"space\", \"space\", \"sport\", \"sport\", \"sport\", \"sport\", \"spotkick\", \"sprint_look\", \"sprint_look\", \"stay\", \"stay\", \"stay\", \"stay\", \"stream\", \"stream\", \"stream\", \"stream\", \"teach\", \"teach\", \"teach\", \"team\", \"team\", \"team\", \"team\", \"telle\", \"telle\", \"telle\", \"telle\", \"telles\", \"telles\", \"telles\", \"telles\", \"ten\", \"ten\", \"ten\", \"tend\", \"texte\", \"theyre_walke\", \"theyre_walke\", \"thierry_henry\", \"thierry_henry\", \"thierry_henry\", \"thing\", \"thing\", \"thing\", \"thing\", \"think\", \"think\", \"think\", \"think\", \"three\", \"three\", \"three\", \"three\", \"tickle_across\", \"time\", \"time\", \"time\", \"time\", \"today\", \"today\", \"today\", \"today\", \"trafford\", \"trafford\", \"trafford\", \"trafford\", \"trail\", \"trail\", \"transfer\", \"transfer\", \"transfer\", \"transfer\", \"trip\", \"trip\", \"trip\", \"understand\", \"understand\", \"understand\", \"understand\", \"username\", \"username\", \"username\", \"username\", \"utd\", \"utd\", \"utd\", \"utd\", \"utterly_delude\", \"utterly_delude\", \"utterly_delude\", \"utterly_delude\", \"var_dues\", \"visiting_side\", \"visitor\", \"visitor\", \"visitor\", \"visitor\", \"watch\", \"watch\", \"watch\", \"watch\", \"wheel\", \"wheel\", \"wheel\", \"win\", \"win\", \"win\", \"win\", \"withhold\", \"word\", \"word\", \"word\", \"word\", \"yesssss\", \"yesssss\", \"yesssss\", \"yesssss\", \"youve_sat\", \"zoom_call\"]}, \"R\": 30, \"lambda.step\": 0.01, \"plot.opts\": {\"xlab\": \"PC1\", \"ylab\": \"PC2\"}, \"topic.order\": [4, 2, 1, 3]};\n",
       "\n",
       "function LDAvis_load_lib(url, callback){\n",
       "  var s = document.createElement('script');\n",
       "  s.src = url;\n",
       "  s.async = true;\n",
       "  s.onreadystatechange = s.onload = callback;\n",
       "  s.onerror = function(){console.warn(\"failed to load library \" + url);};\n",
       "  document.getElementsByTagName(\"head\")[0].appendChild(s);\n",
       "}\n",
       "\n",
       "if(typeof(LDAvis) !== \"undefined\"){\n",
       "   // already loaded: just create the visualization\n",
       "   !function(LDAvis){\n",
       "       new LDAvis(\"#\" + \"ldavis_el126722555851798728726768056\", ldavis_el126722555851798728726768056_data);\n",
       "   }(LDAvis);\n",
       "}else if(typeof define === \"function\" && define.amd){\n",
       "   // require.js is available: use it to load d3/LDAvis\n",
       "   require.config({paths: {d3: \"https://cdnjs.cloudflare.com/ajax/libs/d3/3.5.5/d3.min\"}});\n",
       "   require([\"d3\"], function(d3){\n",
       "      window.d3 = d3;\n",
       "      LDAvis_load_lib(\"https://cdn.rawgit.com/bmabey/pyLDAvis/files/ldavis.v1.0.0.js\", function(){\n",
       "        new LDAvis(\"#\" + \"ldavis_el126722555851798728726768056\", ldavis_el126722555851798728726768056_data);\n",
       "      });\n",
       "    });\n",
       "}else{\n",
       "    // require.js not available: dynamically load d3 & LDAvis\n",
       "    LDAvis_load_lib(\"https://cdnjs.cloudflare.com/ajax/libs/d3/3.5.5/d3.min.js\", function(){\n",
       "         LDAvis_load_lib(\"https://cdn.rawgit.com/bmabey/pyLDAvis/files/ldavis.v1.0.0.js\", function(){\n",
       "                 new LDAvis(\"#\" + \"ldavis_el126722555851798728726768056\", ldavis_el126722555851798728726768056_data);\n",
       "            })\n",
       "         });\n",
       "}\n",
       "</script>"
      ],
      "text/plain": [
       "PreparedData(topic_coordinates=              x         y  topics  cluster       Freq\n",
       "topic                                                \n",
       "3     -0.216207  0.075405       1        1  27.611710\n",
       "1      0.046306 -0.147481       2        1  26.629687\n",
       "0      0.010626 -0.078388       3        1  25.821261\n",
       "2      0.159275  0.150464       4        1  19.937341, topic_info=         Term         Freq        Total Category  logprob  loglift\n",
       "20     telles  2914.000000  2914.000000  Default  30.0000  30.0000\n",
       "22       alex  2492.000000  2492.000000  Default  29.0000  29.0000\n",
       "141      evra  1510.000000  1510.000000  Default  28.0000  28.0000\n",
       "127       fan  2084.000000  2084.000000  Default  27.0000  27.0000\n",
       "29      porto  1851.000000  1851.000000  Default  26.0000  26.0000\n",
       "..        ...          ...          ...      ...      ...      ...\n",
       "60   username  1694.883444  5266.870522   Topic4  -3.4731   0.4788\n",
       "191       son   675.318317  1634.921087   Topic4  -4.3933   0.7284\n",
       "18        see   632.002353  1517.362971   Topic4  -4.4595   0.7367\n",
       "25         go   725.719497  3988.514670   Topic4  -4.3213  -0.0914\n",
       "261       ole   440.841311  1453.540196   Topic4  -4.8198   0.4195\n",
       "\n",
       "[305 rows x 6 columns], token_table=      Topic      Freq       Term\n",
       "term                            \n",
       "47        1  0.986728     accept\n",
       "47        2  0.004600     accept\n",
       "47        3  0.006900     accept\n",
       "47        4  0.002300     accept\n",
       "48        1  0.952654        add\n",
       "...     ...       ...        ...\n",
       "1265      2  0.007561    yesssss\n",
       "1265      3  0.077497    yesssss\n",
       "1265      4  0.911060    yesssss\n",
       "5415      2  0.991641  youve_sat\n",
       "6725      3  0.990506  zoom_call\n",
       "\n",
       "[754 rows x 3 columns], R=30, lambda_step=0.01, plot_opts={'xlab': 'PC1', 'ylab': 'PC2'}, topic_order=[4, 2, 1, 3])"
      ]
     },
     "execution_count": 13,
     "metadata": {},
     "output_type": "execute_result"
    }
   ],
   "source": [
    "pyLDAvis.enable_notebook()\n",
    "pyLDAvis.gensim.prepare(lda_model1_01, corpus, id2word)"
   ]
  },
  {
   "cell_type": "markdown",
   "metadata": {},
   "source": [
    "# Hyperparameter tuning\n",
    "#### Testing for optimal model number"
   ]
  },
  {
   "cell_type": "code",
   "execution_count": 14,
   "metadata": {
    "scrolled": true
   },
   "outputs": [
    {
     "name": "stdout",
     "output_type": "stream",
     "text": [
      "[(0,\n",
      "  '0.029*\"go\" + 0.016*\"game\" + 0.016*\"first\" + 0.013*\"lamela\" + 0.012*\"pron\" + '\n",
      "  '0.012*\"get\" + 0.011*\"maguire\" + 0.011*\"need\" + 0.010*\"match\" + '\n",
      "  '0.010*\"time\"'),\n",
      " (1,\n",
      "  '0.047*\"man\" + 0.034*\"red\" + 0.028*\"card\" + 0.027*\"utd\" + 0.027*\"martial\" + '\n",
      "  '0.017*\"get\" + 0.017*\"penalty\" + 0.014*\"lamela\" + 0.009*\"pron\" + '\n",
      "  '0.009*\"ole\"'),\n",
      " (2,\n",
      "  '0.036*\"fan\" + 0.032*\"right\" + 0.031*\"evra\" + 0.029*\"sky\" + 0.027*\"patrice\" '\n",
      "  '+ 0.024*\"mulive\" + 0.021*\"play\" + 0.020*\"maguire\" + 0.018*\"username\" + '\n",
      "  '0.017*\"one\"'),\n",
      " (3,\n",
      "  '0.048*\"telles\" + 0.043*\"alex\" + 0.033*\"porto\" + 0.030*\"hour\" + '\n",
      "  '0.030*\"medical\" + 0.030*\"next\" + 0.027*\"transfer\" + 0.026*\"last\" + '\n",
      "  '0.026*\"reach\" + 0.026*\"agreement\"'),\n",
      " (4,\n",
      "  '0.050*\"username\" + 0.035*\"goal\" + 0.026*\"son\" + 0.022*\"man\" + 0.017*\"utd\" + '\n",
      "  '0.015*\"old\" + 0.013*\"kane\" + 0.012*\"trafford\" + 0.010*\"mins\" + '\n",
      "  '0.010*\"fernandes\"')]\n",
      "\n",
      "Perplexity:  -6.434963617995792\n",
      "\n",
      "Coherence Score:  0.4701238951107715\n"
     ]
    }
   ],
   "source": [
    "lda_model1_02 = gensim.models.ldamulticore.LdaMulticore(corpus=corpus,\n",
    "                                           id2word=id2word,\n",
    "                                           num_topics=5, \n",
    "                                           workers=12,\n",
    "                                           passes=5,\n",
    "                                           random_state=1892,\n",
    "                                           alpha='symmetric',\n",
    "                                           iterations=50,\n",
    "                                           per_word_topics=True)\n",
    "pprint(lda_model1_02.print_topics())\n",
    "evaluator(lda_model1_02)"
   ]
  },
  {
   "cell_type": "code",
   "execution_count": 15,
   "metadata": {},
   "outputs": [],
   "source": [
    "modelseries1results.append(['model1_02',5,5,50,'symmetric',-6.4341,0.4701])"
   ]
  },
  {
   "cell_type": "code",
   "execution_count": 16,
   "metadata": {
    "scrolled": true
   },
   "outputs": [
    {
     "name": "stdout",
     "output_type": "stream",
     "text": [
      "[(0,\n",
      "  '0.035*\"go\" + 0.017*\"first\" + 0.016*\"lamela\" + 0.012*\"game\" + 0.011*\"think\" '\n",
      "  '+ 0.011*\"maguire\" + 0.011*\"goal\" + 0.011*\"need\" + 0.011*\"time\" + '\n",
      "  '0.011*\"league\"'),\n",
      " (1,\n",
      "  '0.054*\"man\" + 0.036*\"red\" + 0.031*\"card\" + 0.031*\"utd\" + 0.029*\"martial\" + '\n",
      "  '0.021*\"penalty\" + 0.017*\"get\" + 0.015*\"lamela\" + 0.010*\"send\" + '\n",
      "  '0.009*\"ole\"'),\n",
      " (2,\n",
      "  '0.040*\"fan\" + 0.036*\"right\" + 0.035*\"evra\" + 0.032*\"sky\" + 0.031*\"patrice\" '\n",
      "  '+ 0.025*\"mulive\" + 0.024*\"play\" + 0.020*\"maguire\" + 0.019*\"team\" + '\n",
      "  '0.018*\"sancho\"'),\n",
      " (3,\n",
      "  '0.051*\"telles\" + 0.049*\"alex\" + 0.039*\"porto\" + 0.034*\"medical\" + '\n",
      "  '0.032*\"hour\" + 0.031*\"transfer\" + 0.030*\"reach\" + 0.030*\"next\" + '\n",
      "  '0.030*\"agreement\" + 0.030*\"last\"'),\n",
      " (4,\n",
      "  '0.038*\"goal\" + 0.034*\"username\" + 0.030*\"son\" + 0.025*\"man\" + 0.019*\"utd\" + '\n",
      "  '0.017*\"old\" + 0.015*\"kane\" + 0.013*\"trafford\" + 0.011*\"mins\" + '\n",
      "  '0.011*\"fernandes\"'),\n",
      " (5,\n",
      "  '0.063*\"username\" + 0.020*\"game\" + 0.015*\"pron\" + 0.012*\"one\" + 0.011*\"get\" '\n",
      "  '+ 0.011*\"sign\" + 0.008*\"sancho\" + 0.008*\"maguire\" + 0.008*\"time\" + '\n",
      "  '0.007*\"make\"')]\n",
      "\n",
      "Perplexity:  -6.423931707244379\n",
      "\n",
      "Coherence Score:  0.44382906817718465\n"
     ]
    }
   ],
   "source": [
    "lda_model1_03 = gensim.models.ldamulticore.LdaMulticore(corpus=corpus,\n",
    "                                           id2word=id2word,\n",
    "                                           num_topics=6, \n",
    "                                           workers=12,\n",
    "                                           passes=5,\n",
    "                                           random_state=1892,\n",
    "                                           alpha='symmetric',\n",
    "                                           iterations=50,\n",
    "                                           per_word_topics=True)\n",
    "pprint(lda_model1_03.print_topics())\n",
    "evaluator(lda_model1_03)"
   ]
  },
  {
   "cell_type": "code",
   "execution_count": 17,
   "metadata": {},
   "outputs": [],
   "source": [
    "modelseries1results.append(['model1_03',6,5,50,'symmetric',-6.4243,0.4459])"
   ]
  },
  {
   "cell_type": "code",
   "execution_count": 18,
   "metadata": {
    "scrolled": true
   },
   "outputs": [
    {
     "name": "stdout",
     "output_type": "stream",
     "text": [
      "[(0,\n",
      "  '0.040*\"go\" + 0.021*\"first\" + 0.019*\"lamela\" + 0.015*\"goal\" + 0.015*\"league\" '\n",
      "  '+ 0.014*\"need\" + 0.013*\"game\" + 0.013*\"think\" + 0.012*\"martial\" + '\n",
      "  '0.012*\"let\"'),\n",
      " (1,\n",
      "  '0.061*\"man\" + 0.044*\"red\" + 0.037*\"card\" + 0.036*\"martial\" + 0.035*\"utd\" + '\n",
      "  '0.024*\"penalty\" + 0.019*\"lamela\" + 0.018*\"get\" + 0.012*\"send\" + '\n",
      "  '0.010*\"need\"'),\n",
      " (2,\n",
      "  '0.029*\"fan\" + 0.026*\"right\" + 0.026*\"play\" + 0.025*\"patrice\" + 0.025*\"team\" '\n",
      "  '+ 0.023*\"evra\" + 0.022*\"one\" + 0.022*\"mulive\" + 0.021*\"sky\" + '\n",
      "  '0.021*\"maguire\"'),\n",
      " (3,\n",
      "  '0.053*\"telles\" + 0.052*\"alex\" + 0.042*\"porto\" + 0.035*\"medical\" + '\n",
      "  '0.034*\"hour\" + 0.033*\"transfer\" + 0.033*\"reach\" + 0.033*\"next\" + '\n",
      "  '0.032*\"agreement\" + 0.032*\"last\"'),\n",
      " (4,\n",
      "  '0.040*\"goal\" + 0.037*\"username\" + 0.032*\"son\" + 0.027*\"man\" + 0.020*\"utd\" + '\n",
      "  '0.019*\"old\" + 0.015*\"trafford\" + 0.013*\"mins\" + 0.012*\"fernandes\" + '\n",
      "  '0.012*\"bruuunnooooo\"'),\n",
      " (5,\n",
      "  '0.076*\"username\" + 0.021*\"game\" + 0.012*\"get\" + 0.012*\"one\" + 0.012*\"sign\" '\n",
      "  '+ 0.011*\"pron\" + 0.009*\"club\" + 0.008*\"make\" + 0.008*\"sancho\" + '\n",
      "  '0.007*\"penalty\"'),\n",
      " (6,\n",
      "  '0.025*\"fan\" + 0.025*\"see\" + 0.023*\"sancho\" + 0.021*\"buy\" + 0.021*\"evra\" + '\n",
      "  '0.020*\"mourinho\" + 0.020*\"jose\" + 0.020*\"go\" + 0.019*\"sky\" + 0.019*\"right\"')]\n",
      "\n",
      "Perplexity:  -6.421694370517502\n",
      "\n",
      "Coherence Score:  0.4201762956955341\n"
     ]
    }
   ],
   "source": [
    "lda_model1_04 = gensim.models.ldamulticore.LdaMulticore(corpus=corpus,\n",
    "                                           id2word=id2word,\n",
    "                                           num_topics=7, \n",
    "                                           workers=12,\n",
    "                                           passes=5,\n",
    "                                           random_state=1892,\n",
    "                                           alpha='symmetric',\n",
    "                                           iterations=50,\n",
    "                                           per_word_topics=True)\n",
    "pprint(lda_model1_04.print_topics())\n",
    "evaluator(lda_model1_04)"
   ]
  },
  {
   "cell_type": "code",
   "execution_count": 19,
   "metadata": {},
   "outputs": [],
   "source": [
    "modelseries1results.append(['model1_04',7,5,50,'symmetric',-6.4231,0.4334])"
   ]
  },
  {
   "cell_type": "code",
   "execution_count": 20,
   "metadata": {
    "scrolled": true
   },
   "outputs": [
    {
     "name": "stdout",
     "output_type": "stream",
     "text": [
      "[(0,\n",
      "  '0.038*\"go\" + 0.022*\"first\" + 0.021*\"lamela\" + 0.015*\"goal\" + 0.014*\"need\" + '\n",
      "  '0.013*\"martial\" + 0.013*\"think\" + 0.013*\"game\" + 0.012*\"league\" + '\n",
      "  '0.012*\"time\"'),\n",
      " (1,\n",
      "  '0.067*\"man\" + 0.048*\"red\" + 0.041*\"card\" + 0.038*\"utd\" + 0.037*\"martial\" + '\n",
      "  '0.021*\"penalty\" + 0.020*\"get\" + 0.017*\"lamela\" + 0.011*\"send\" + '\n",
      "  '0.010*\"need\"'),\n",
      " (2,\n",
      "  '0.032*\"fan\" + 0.027*\"play\" + 0.026*\"right\" + 0.026*\"patrice\" + 0.026*\"team\" '\n",
      "  '+ 0.024*\"evra\" + 0.024*\"one\" + 0.023*\"maguire\" + 0.022*\"sky\" + '\n",
      "  '0.022*\"deserve\"'),\n",
      " (3,\n",
      "  '0.036*\"live\" + 0.026*\"telles\" + 0.025*\"alex\" + 0.024*\"stream\" + '\n",
      "  '0.024*\"penalty\" + 0.023*\"fee\" + 0.022*\"player\" + 0.021*\"add\" + '\n",
      "  '0.020*\"porto\" + 0.020*\"around\"'),\n",
      " (4,\n",
      "  '0.044*\"goal\" + 0.038*\"username\" + 0.034*\"son\" + 0.028*\"man\" + 0.020*\"utd\" + '\n",
      "  '0.020*\"old\" + 0.016*\"trafford\" + 0.014*\"mins\" + 0.013*\"fernandes\" + '\n",
      "  '0.013*\"bruuunnooooo\"'),\n",
      " (5,\n",
      "  '0.070*\"username\" + 0.023*\"game\" + 0.014*\"one\" + 0.014*\"sign\" + 0.012*\"get\" '\n",
      "  '+ 0.011*\"pron\" + 0.009*\"cavani\" + 0.008*\"club\" + 0.008*\"sancho\" + '\n",
      "  '0.008*\"make\"'),\n",
      " (6,\n",
      "  '0.026*\"fan\" + 0.026*\"see\" + 0.026*\"sancho\" + 0.023*\"buy\" + 0.023*\"evra\" + '\n",
      "  '0.022*\"mourinho\" + 0.021*\"jose\" + 0.021*\"right\" + 0.021*\"sky\" + 0.020*\"go\"'),\n",
      " (7,\n",
      "  '0.053*\"telles\" + 0.051*\"alex\" + 0.045*\"medical\" + 0.039*\"agreement\" + '\n",
      "  '0.039*\"reach\" + 0.039*\"porto\" + 0.039*\"go\" + 0.037*\"last\" + '\n",
      "  '0.037*\"transfer\" + 0.037*\"hour\"')]\n",
      "\n",
      "Perplexity:  -6.400035578248123\n",
      "\n",
      "Coherence Score:  0.45410505363908393\n"
     ]
    }
   ],
   "source": [
    "lda_model1_05 = gensim.models.ldamulticore.LdaMulticore(corpus=corpus,\n",
    "                                           id2word=id2word,\n",
    "                                           num_topics=8, \n",
    "                                           workers=12,\n",
    "                                           passes=5,\n",
    "                                           random_state=1892,\n",
    "                                           alpha='symmetric',\n",
    "                                           iterations=50,\n",
    "                                           per_word_topics=True)\n",
    "pprint(lda_model1_05.print_topics())\n",
    "evaluator(lda_model1_05)"
   ]
  },
  {
   "cell_type": "code",
   "execution_count": 21,
   "metadata": {},
   "outputs": [],
   "source": [
    "modelseries1results.append(['model1_05',8,5,50,'symmetric',-6.3976,0.4446])"
   ]
  },
  {
   "cell_type": "code",
   "execution_count": 22,
   "metadata": {},
   "outputs": [
    {
     "name": "stdout",
     "output_type": "stream",
     "text": [
      "[(0,\n",
      "  '0.044*\"go\" + 0.025*\"first\" + 0.018*\"goal\" + 0.016*\"league\" + 0.015*\"time\" + '\n",
      "  '0.015*\"need\" + 0.015*\"game\" + 0.014*\"let\" + 0.013*\"man\" + 0.013*\"match\"'),\n",
      " (1,\n",
      "  '0.061*\"man\" + 0.043*\"utd\" + 0.027*\"penalty\" + 0.023*\"get\" + 0.016*\"red\" + '\n",
      "  '0.016*\"card\" + 0.016*\"martial\" + 0.010*\"ole\" + 0.010*\"need\" + 0.010*\"min\"'),\n",
      " (2,\n",
      "  '0.031*\"fan\" + 0.028*\"right\" + 0.027*\"play\" + 0.027*\"team\" + 0.026*\"patrice\" '\n",
      "  '+ 0.026*\"maguire\" + 0.024*\"evra\" + 0.022*\"one\" + 0.022*\"sky\" + '\n",
      "  '0.022*\"deserve\"'),\n",
      " (3,\n",
      "  '0.040*\"live\" + 0.031*\"telles\" + 0.030*\"alex\" + 0.027*\"fee\" + 0.027*\"stream\" '\n",
      "  '+ 0.024*\"add\" + 0.024*\"porto\" + 0.023*\"penalty\" + 0.023*\"player\" + '\n",
      "  '0.022*\"join\"'),\n",
      " (4,\n",
      "  '0.048*\"goal\" + 0.035*\"son\" + 0.028*\"username\" + 0.027*\"man\" + 0.021*\"utd\" + '\n",
      "  '0.021*\"old\" + 0.016*\"trafford\" + 0.015*\"mins\" + 0.014*\"bruuunnooooo\" + '\n",
      "  '0.014*\"yesssss\"'),\n",
      " (5,\n",
      "  '0.066*\"username\" + 0.027*\"game\" + 0.015*\"one\" + 0.015*\"sign\" + 0.012*\"get\" '\n",
      "  '+ 0.011*\"cavani\" + 0.011*\"pron\" + 0.010*\"see\" + 0.009*\"sancho\" + '\n",
      "  '0.009*\"mulive\"'),\n",
      " (6,\n",
      "  '0.028*\"fan\" + 0.027*\"see\" + 0.027*\"sancho\" + 0.025*\"buy\" + 0.024*\"evra\" + '\n",
      "  '0.024*\"mourinho\" + 0.023*\"jose\" + 0.022*\"right\" + 0.022*\"sky\" + 0.022*\"go\"'),\n",
      " (7,\n",
      "  '0.055*\"telles\" + 0.053*\"alex\" + 0.047*\"medical\" + 0.041*\"reach\" + '\n",
      "  '0.041*\"agreement\" + 0.041*\"porto\" + 0.041*\"go\" + 0.040*\"last\" + '\n",
      "  '0.039*\"transfer\" + 0.038*\"hour\"'),\n",
      " (8,\n",
      "  '0.058*\"martial\" + 0.057*\"red\" + 0.044*\"card\" + 0.042*\"lamela\" + '\n",
      "  '0.038*\"username\" + 0.023*\"man\" + 0.017*\"solskjaer\" + 0.016*\"think\" + '\n",
      "  '0.015*\"utterly_delude\" + 0.015*\"anyone_blaming\"')]\n",
      "\n",
      "Perplexity:  -6.379421190524076\n",
      "\n",
      "Coherence Score:  0.4558998280163966\n"
     ]
    }
   ],
   "source": [
    "lda_model1_06 = gensim.models.ldamulticore.LdaMulticore(corpus=corpus,\n",
    "                                           id2word=id2word,\n",
    "                                           num_topics=9, \n",
    "                                           workers=12,\n",
    "                                           passes=5,\n",
    "                                           random_state=1892,\n",
    "                                           alpha='symmetric',\n",
    "                                           iterations=50,\n",
    "                                           per_word_topics=True)\n",
    "pprint(lda_model1_06.print_topics())\n",
    "evaluator(lda_model1_06)"
   ]
  },
  {
   "cell_type": "code",
   "execution_count": 23,
   "metadata": {},
   "outputs": [],
   "source": [
    "modelseries1results.append(['model1_06',9,5,50,'symmetric',-6.3812,0.4531])"
   ]
  },
  {
   "cell_type": "code",
   "execution_count": 24,
   "metadata": {
    "scrolled": true
   },
   "outputs": [
    {
     "name": "stdout",
     "output_type": "stream",
     "text": [
      "[(0,\n",
      "  '0.045*\"go\" + 0.025*\"first\" + 0.020*\"goal\" + 0.018*\"league\" + 0.017*\"game\" + '\n",
      "  '0.014*\"let\" + 0.014*\"time\" + 0.013*\"need\" + 0.013*\"match\" + '\n",
      "  '0.013*\"premier\"'),\n",
      " (1,\n",
      "  '0.057*\"man\" + 0.035*\"utd\" + 0.020*\"get\" + 0.017*\"red\" + 0.017*\"card\" + '\n",
      "  '0.016*\"martial\" + 0.012*\"penalty\" + 0.011*\"player\" + 0.010*\"min\" + '\n",
      "  '0.010*\"need\"'),\n",
      " (2,\n",
      "  '0.035*\"fan\" + 0.031*\"patrice\" + 0.031*\"right\" + 0.031*\"play\" + 0.029*\"evra\" '\n",
      "  '+ 0.028*\"one\" + 0.028*\"team\" + 0.027*\"maguire\" + 0.027*\"sky\" + '\n",
      "  '0.026*\"mulive\"'),\n",
      " (3,\n",
      "  '0.062*\"penalty\" + 0.052*\"live\" + 0.038*\"man\" + 0.034*\"stream\" + 0.032*\"utd\" '\n",
      "  '+ 0.022*\"link_gtgt\" + 0.019*\"league\" + 0.019*\"vs\" + 0.016*\"premier\" + '\n",
      "  '0.012*\"free\"'),\n",
      " (4,\n",
      "  '0.050*\"goal\" + 0.039*\"son\" + 0.029*\"man\" + 0.026*\"username\" + 0.021*\"utd\" + '\n",
      "  '0.021*\"old\" + 0.016*\"trafford\" + 0.016*\"mins\" + 0.015*\"kane\" + '\n",
      "  '0.015*\"fernandes\"'),\n",
      " (5,\n",
      "  '0.067*\"username\" + 0.022*\"game\" + 0.014*\"get\" + 0.013*\"pron\" + 0.013*\"one\" '\n",
      "  '+ 0.011*\"sign\" + 0.009*\"sancho\" + 0.009*\"cavani\" + 0.009*\"half\" + '\n",
      "  '0.009*\"back\"'),\n",
      " (6,\n",
      "  '0.033*\"see\" + 0.032*\"fan\" + 0.031*\"sancho\" + 0.029*\"buy\" + 0.027*\"evra\" + '\n",
      "  '0.025*\"go\" + 0.024*\"sky\" + 0.024*\"right\" + 0.022*\"playstation\" + '\n",
      "  '0.021*\"mourinho\"'),\n",
      " (7,\n",
      "  '0.019*\"ole\" + 0.017*\"team\" + 0.016*\"telles\" + 0.016*\"tactic\" + 0.014*\"alex\" '\n",
      "  '+ 0.014*\"vibe\" + 0.014*\"go\" + 0.013*\"porto\" + 0.011*\"right\" + '\n",
      "  '0.011*\"leave\"'),\n",
      " (8,\n",
      "  '0.054*\"red\" + 0.054*\"martial\" + 0.042*\"card\" + 0.039*\"lamela\" + '\n",
      "  '0.037*\"username\" + 0.024*\"man\" + 0.020*\"solskjaer\" + 0.016*\"utterly_delude\" '\n",
      "  '+ 0.016*\"anyone_blaming\" + 0.016*\"think\"'),\n",
      " (9,\n",
      "  '0.062*\"telles\" + 0.058*\"alex\" + 0.042*\"porto\" + 0.039*\"medical\" + '\n",
      "  '0.036*\"hour\" + 0.034*\"next\" + 0.033*\"transfer\" + 0.033*\"agreement\" + '\n",
      "  '0.033*\"go\" + 0.032*\"reach\"')]\n",
      "\n",
      "Perplexity:  -6.380569401259924\n",
      "\n",
      "Coherence Score:  0.41834927024487845\n"
     ]
    }
   ],
   "source": [
    "lda_model1_07 = gensim.models.ldamulticore.LdaMulticore(corpus=corpus,\n",
    "                                           id2word=id2word,\n",
    "                                           num_topics=10, \n",
    "                                           workers=12,\n",
    "                                           passes=5,\n",
    "                                           random_state=1892,\n",
    "                                           alpha='symmetric',\n",
    "                                           iterations=50,\n",
    "                                           per_word_topics=True)\n",
    "pprint(lda_model1_07.print_topics())\n",
    "evaluator(lda_model1_07)"
   ]
  },
  {
   "cell_type": "code",
   "execution_count": 25,
   "metadata": {},
   "outputs": [],
   "source": [
    "modelseries1results.append(['model1_07',10,5,50,'symmetric',-6.3789,0.4203])"
   ]
  },
  {
   "cell_type": "code",
   "execution_count": 26,
   "metadata": {},
   "outputs": [
    {
     "name": "stdout",
     "output_type": "stream",
     "text": [
      "[(0,\n",
      "  '0.048*\"go\" + 0.028*\"first\" + 0.021*\"goal\" + 0.019*\"man\" + 0.018*\"need\" + '\n",
      "  '0.017*\"league\" + 0.016*\"win\" + 0.016*\"let\" + 0.015*\"game\" + 0.015*\"match\"'),\n",
      " (1,\n",
      "  '0.053*\"man\" + 0.033*\"utd\" + 0.023*\"get\" + 0.019*\"card\" + 0.018*\"red\" + '\n",
      "  '0.017*\"martial\" + 0.012*\"ole\" + 0.012*\"min\" + 0.012*\"penalty\" + '\n",
      "  '0.011*\"player\"'),\n",
      " (2,\n",
      "  '0.033*\"fan\" + 0.031*\"patrice\" + 0.029*\"right\" + 0.029*\"play\" + 0.028*\"team\" '\n",
      "  '+ 0.028*\"evra\" + 0.026*\"one\" + 0.025*\"mulive\" + 0.025*\"sky\" + '\n",
      "  '0.023*\"deserve\"'),\n",
      " (3,\n",
      "  '0.060*\"penalty\" + 0.056*\"live\" + 0.040*\"man\" + 0.036*\"stream\" + 0.034*\"utd\" '\n",
      "  '+ 0.023*\"link_gtgt\" + 0.020*\"vs\" + 0.019*\"league\" + 0.017*\"premier\" + '\n",
      "  '0.012*\"free\"'),\n",
      " (4,\n",
      "  '0.053*\"goal\" + 0.043*\"son\" + 0.032*\"man\" + 0.027*\"username\" + 0.024*\"utd\" + '\n",
      "  '0.019*\"old\" + 0.018*\"mins\" + 0.016*\"trafford\" + 0.016*\"fernandes\" + '\n",
      "  '0.016*\"bruuunnooooo\"'),\n",
      " (5,\n",
      "  '0.065*\"username\" + 0.025*\"game\" + 0.013*\"one\" + 0.013*\"get\" + 0.011*\"sign\" '\n",
      "  '+ 0.010*\"pron\" + 0.010*\"watch\" + 0.009*\"sancho\" + 0.009*\"club\" + '\n",
      "  '0.009*\"cavani\"'),\n",
      " (6,\n",
      "  '0.036*\"fan\" + 0.034*\"see\" + 0.033*\"sancho\" + 0.029*\"buy\" + 0.028*\"right\" + '\n",
      "  '0.027*\"evra\" + 0.027*\"go\" + 0.025*\"sky\" + 0.022*\"playstation\" + '\n",
      "  '0.021*\"catastrophic\"'),\n",
      " (7,\n",
      "  '0.017*\"ole\" + 0.016*\"telles\" + 0.015*\"team\" + 0.015*\"alex\" + 0.015*\"go\" + '\n",
      "  '0.014*\"porto\" + 0.012*\"username\" + 0.011*\"reach\" + 0.010*\"medical\" + '\n",
      "  '0.010*\"sign\"'),\n",
      " (8,\n",
      "  '0.056*\"martial\" + 0.055*\"red\" + 0.042*\"lamela\" + 0.042*\"card\" + '\n",
      "  '0.039*\"username\" + 0.022*\"man\" + 0.019*\"solskjaer\" + 0.017*\"think\" + '\n",
      "  '0.016*\"utterly_delude\" + 0.016*\"anyone_blaming\"'),\n",
      " (9,\n",
      "  '0.060*\"telles\" + 0.057*\"alex\" + 0.045*\"medical\" + 0.042*\"hour\" + '\n",
      "  '0.040*\"next\" + 0.039*\"transfer\" + 0.039*\"agreement\" + 0.039*\"porto\" + '\n",
      "  '0.038*\"go\" + 0.038*\"reach\"'),\n",
      " (10,\n",
      "  '0.041*\"maguire\" + 0.026*\"mourinho\" + 0.024*\"jose\" + 0.022*\"player\" + '\n",
      "  '0.021*\"love\" + 0.020*\"telles\" + 0.020*\"know\" + 0.018*\"also\" + 0.017*\"move\" '\n",
      "  '+ 0.017*\"join\"')]\n",
      "\n",
      "Perplexity:  -6.3691753235970445\n",
      "\n",
      "Coherence Score:  0.42977347944994365\n"
     ]
    }
   ],
   "source": [
    "lda_model1_08 = gensim.models.ldamulticore.LdaMulticore(corpus=corpus,\n",
    "                                           id2word=id2word,\n",
    "                                           num_topics=11, \n",
    "                                           workers=12,\n",
    "                                           passes=5,\n",
    "                                           random_state=1892,\n",
    "                                           alpha='symmetric',\n",
    "                                           iterations=50,\n",
    "                                           per_word_topics=True)\n",
    "pprint(lda_model1_08.print_topics())\n",
    "evaluator(lda_model1_08)"
   ]
  },
  {
   "cell_type": "code",
   "execution_count": 27,
   "metadata": {},
   "outputs": [],
   "source": [
    "modelseries1results.append(['model1_08',11,5,50,'symmetric',-6.3670,0.4344])"
   ]
  },
  {
   "cell_type": "code",
   "execution_count": 28,
   "metadata": {},
   "outputs": [
    {
     "name": "stdout",
     "output_type": "stream",
     "text": [
      "[(0,\n",
      "  '0.054*\"go\" + 0.028*\"first\" + 0.017*\"league\" + 0.017*\"let\" + 0.016*\"game\" + '\n",
      "  '0.016*\"goal\" + 0.015*\"need\" + 0.015*\"win\" + 0.014*\"half\" + 0.013*\"time\"'),\n",
      " (1,\n",
      "  '0.062*\"man\" + 0.038*\"utd\" + 0.018*\"need\" + 0.018*\"get\" + 0.017*\"red\" + '\n",
      "  '0.017*\"martial\" + 0.015*\"card\" + 0.013*\"ole\" + 0.013*\"player\" + '\n",
      "  '0.012*\"min\"'),\n",
      " (2,\n",
      "  '0.041*\"fan\" + 0.038*\"patrice\" + 0.036*\"play\" + 0.035*\"evra\" + 0.035*\"right\" '\n",
      "  '+ 0.034*\"team\" + 0.033*\"one\" + 0.032*\"sky\" + 0.031*\"mulive\" + '\n",
      "  '0.030*\"deserve\"'),\n",
      " (3,\n",
      "  '0.060*\"penalty\" + 0.047*\"live\" + 0.038*\"man\" + 0.032*\"utd\" + 0.031*\"stream\" '\n",
      "  '+ 0.020*\"link_gtgt\" + 0.019*\"league\" + 0.017*\"vs\" + 0.014*\"premier\" + '\n",
      "  '0.013*\"match\"'),\n",
      " (4,\n",
      "  '0.051*\"goal\" + 0.041*\"son\" + 0.033*\"username\" + 0.031*\"man\" + 0.022*\"utd\" + '\n",
      "  '0.020*\"old\" + 0.017*\"mins\" + 0.016*\"trafford\" + 0.016*\"fernandes\" + '\n",
      "  '0.015*\"bruuunnooooo\"'),\n",
      " (5,\n",
      "  '0.054*\"username\" + 0.028*\"game\" + 0.016*\"get\" + 0.015*\"one\" + '\n",
      "  '0.012*\"penalty\" + 0.010*\"sign\" + 0.010*\"pron\" + 0.009*\"see\" + '\n",
      "  '0.009*\"sancho\" + 0.009*\"watch\"'),\n",
      " (6,\n",
      "  '0.040*\"sancho\" + 0.040*\"see\" + 0.039*\"fan\" + 0.037*\"buy\" + 0.035*\"evra\" + '\n",
      "  '0.032*\"right\" + 0.032*\"sky\" + 0.031*\"go\" + 0.028*\"playstation\" + '\n",
      "  '0.026*\"catastrophic\"'),\n",
      " (7,\n",
      "  '0.021*\"ole\" + 0.018*\"team\" + 0.016*\"right\" + 0.013*\"amp\" + 0.012*\"play\" + '\n",
      "  '0.011*\"go\" + 0.010*\"username\" + 0.010*\"leave\" + 0.010*\"fan\" + 0.009*\"back\"'),\n",
      " (8,\n",
      "  '0.061*\"red\" + 0.060*\"martial\" + 0.050*\"card\" + 0.045*\"lamela\" + '\n",
      "  '0.042*\"username\" + 0.026*\"man\" + 0.020*\"solskjaer\" + 0.018*\"utterly_delude\" '\n",
      "  '+ 0.018*\"anyone_blaming\" + 0.017*\"think\"'),\n",
      " (9,\n",
      "  '0.047*\"username\" + 0.043*\"telles\" + 0.037*\"alex\" + 0.031*\"cavani\" + '\n",
      "  '0.028*\"mourinho\" + 0.027*\"jose\" + 0.026*\"love\" + 0.025*\"know\" + '\n",
      "  '0.019*\"edinson\" + 0.018*\"medical\"'),\n",
      " (10,\n",
      "  '0.054*\"maguire\" + 0.024*\"player\" + 0.019*\"also\" + 0.019*\"around\" + '\n",
      "  '0.019*\"harry\" + 0.019*\"telles\" + 0.019*\"join\" + 0.018*\"move\" + 0.018*\"add\" '\n",
      "  '+ 0.017*\"alex\"'),\n",
      " (11,\n",
      "  '0.052*\"telles\" + 0.050*\"medical\" + 0.049*\"transfer\" + 0.047*\"hour\" + '\n",
      "  '0.047*\"alex\" + 0.046*\"last\" + 0.046*\"agreement\" + 0.046*\"reach\" + '\n",
      "  '0.046*\"next\" + 0.045*\"go\"')]\n",
      "\n",
      "Perplexity:  -6.361507887698132\n",
      "\n",
      "Coherence Score:  0.41185871621544967\n"
     ]
    }
   ],
   "source": [
    "lda_model1_09 = gensim.models.ldamulticore.LdaMulticore(corpus=corpus,\n",
    "                                           id2word=id2word,\n",
    "                                           num_topics=12, \n",
    "                                           workers=12,\n",
    "                                           passes=5,\n",
    "                                           random_state=1892,\n",
    "                                           alpha='symmetric',\n",
    "                                           iterations=50,\n",
    "                                           per_word_topics=True)\n",
    "pprint(lda_model1_09.print_topics())\n",
    "evaluator(lda_model1_09)"
   ]
  },
  {
   "cell_type": "code",
   "execution_count": 29,
   "metadata": {},
   "outputs": [],
   "source": [
    "modelseries1results.append(['model1_09',12,5,50,'symmetric',-6.3582, 0.4226])"
   ]
  },
  {
   "cell_type": "code",
   "execution_count": 30,
   "metadata": {},
   "outputs": [],
   "source": [
    "modeltracker = pd.DataFrame(modelseries1results, columns =['model_name', 'num_topics', 'passes','iterations','alpha','perplexity','coherence'], dtype = float) "
   ]
  },
  {
   "cell_type": "code",
   "execution_count": 31,
   "metadata": {
    "scrolled": false
   },
   "outputs": [
    {
     "data": {
      "text/html": [
       "<div>\n",
       "<style scoped>\n",
       "    .dataframe tbody tr th:only-of-type {\n",
       "        vertical-align: middle;\n",
       "    }\n",
       "\n",
       "    .dataframe tbody tr th {\n",
       "        vertical-align: top;\n",
       "    }\n",
       "\n",
       "    .dataframe thead th {\n",
       "        text-align: right;\n",
       "    }\n",
       "</style>\n",
       "<table border=\"1\" class=\"dataframe\">\n",
       "  <thead>\n",
       "    <tr style=\"text-align: right;\">\n",
       "      <th></th>\n",
       "      <th>model_name</th>\n",
       "      <th>num_topics</th>\n",
       "      <th>passes</th>\n",
       "      <th>iterations</th>\n",
       "      <th>alpha</th>\n",
       "      <th>perplexity</th>\n",
       "      <th>coherence</th>\n",
       "    </tr>\n",
       "  </thead>\n",
       "  <tbody>\n",
       "    <tr>\n",
       "      <th>0</th>\n",
       "      <td>model1_01</td>\n",
       "      <td>4.0</td>\n",
       "      <td>5.0</td>\n",
       "      <td>50.0</td>\n",
       "      <td>symmetric</td>\n",
       "      <td>-6.5080</td>\n",
       "      <td>0.4128</td>\n",
       "    </tr>\n",
       "    <tr>\n",
       "      <th>1</th>\n",
       "      <td>model1_02</td>\n",
       "      <td>5.0</td>\n",
       "      <td>5.0</td>\n",
       "      <td>50.0</td>\n",
       "      <td>symmetric</td>\n",
       "      <td>-6.4341</td>\n",
       "      <td>0.4701</td>\n",
       "    </tr>\n",
       "    <tr>\n",
       "      <th>2</th>\n",
       "      <td>model1_03</td>\n",
       "      <td>6.0</td>\n",
       "      <td>5.0</td>\n",
       "      <td>50.0</td>\n",
       "      <td>symmetric</td>\n",
       "      <td>-6.4243</td>\n",
       "      <td>0.4459</td>\n",
       "    </tr>\n",
       "    <tr>\n",
       "      <th>3</th>\n",
       "      <td>model1_04</td>\n",
       "      <td>7.0</td>\n",
       "      <td>5.0</td>\n",
       "      <td>50.0</td>\n",
       "      <td>symmetric</td>\n",
       "      <td>-6.4231</td>\n",
       "      <td>0.4334</td>\n",
       "    </tr>\n",
       "    <tr>\n",
       "      <th>4</th>\n",
       "      <td>model1_05</td>\n",
       "      <td>8.0</td>\n",
       "      <td>5.0</td>\n",
       "      <td>50.0</td>\n",
       "      <td>symmetric</td>\n",
       "      <td>-6.3976</td>\n",
       "      <td>0.4446</td>\n",
       "    </tr>\n",
       "    <tr>\n",
       "      <th>5</th>\n",
       "      <td>model1_06</td>\n",
       "      <td>9.0</td>\n",
       "      <td>5.0</td>\n",
       "      <td>50.0</td>\n",
       "      <td>symmetric</td>\n",
       "      <td>-6.3812</td>\n",
       "      <td>0.4531</td>\n",
       "    </tr>\n",
       "    <tr>\n",
       "      <th>6</th>\n",
       "      <td>model1_07</td>\n",
       "      <td>10.0</td>\n",
       "      <td>5.0</td>\n",
       "      <td>50.0</td>\n",
       "      <td>symmetric</td>\n",
       "      <td>-6.3789</td>\n",
       "      <td>0.4203</td>\n",
       "    </tr>\n",
       "    <tr>\n",
       "      <th>7</th>\n",
       "      <td>model1_08</td>\n",
       "      <td>11.0</td>\n",
       "      <td>5.0</td>\n",
       "      <td>50.0</td>\n",
       "      <td>symmetric</td>\n",
       "      <td>-6.3670</td>\n",
       "      <td>0.4344</td>\n",
       "    </tr>\n",
       "    <tr>\n",
       "      <th>8</th>\n",
       "      <td>model1_09</td>\n",
       "      <td>12.0</td>\n",
       "      <td>5.0</td>\n",
       "      <td>50.0</td>\n",
       "      <td>symmetric</td>\n",
       "      <td>-6.3582</td>\n",
       "      <td>0.4226</td>\n",
       "    </tr>\n",
       "  </tbody>\n",
       "</table>\n",
       "</div>"
      ],
      "text/plain": [
       "  model_name  num_topics  passes  iterations      alpha  perplexity  coherence\n",
       "0  model1_01         4.0     5.0        50.0  symmetric     -6.5080     0.4128\n",
       "1  model1_02         5.0     5.0        50.0  symmetric     -6.4341     0.4701\n",
       "2  model1_03         6.0     5.0        50.0  symmetric     -6.4243     0.4459\n",
       "3  model1_04         7.0     5.0        50.0  symmetric     -6.4231     0.4334\n",
       "4  model1_05         8.0     5.0        50.0  symmetric     -6.3976     0.4446\n",
       "5  model1_06         9.0     5.0        50.0  symmetric     -6.3812     0.4531\n",
       "6  model1_07        10.0     5.0        50.0  symmetric     -6.3789     0.4203\n",
       "7  model1_08        11.0     5.0        50.0  symmetric     -6.3670     0.4344\n",
       "8  model1_09        12.0     5.0        50.0  symmetric     -6.3582     0.4226"
      ]
     },
     "execution_count": 31,
     "metadata": {},
     "output_type": "execute_result"
    }
   ],
   "source": [
    "modeltracker"
   ]
  },
  {
   "cell_type": "code",
   "execution_count": 32,
   "metadata": {},
   "outputs": [
    {
     "name": "stdout",
     "output_type": "stream",
     "text": [
      "[(0,\n",
      "  '0.043*\"go\" + 0.025*\"first\" + 0.018*\"goal\" + 0.016*\"league\" + 0.015*\"time\" + '\n",
      "  '0.015*\"game\" + 0.014*\"need\" + 0.014*\"man\" + 0.013*\"let\" + 0.013*\"match\"'),\n",
      " (1,\n",
      "  '0.058*\"man\" + 0.041*\"utd\" + 0.025*\"penalty\" + 0.023*\"get\" + 0.014*\"red\" + '\n",
      "  '0.014*\"card\" + 0.014*\"martial\" + 0.011*\"ole\" + 0.010*\"need\" + 0.010*\"min\"'),\n",
      " (2,\n",
      "  '0.032*\"fan\" + 0.029*\"right\" + 0.028*\"play\" + 0.028*\"patrice\" + 0.027*\"team\" '\n",
      "  '+ 0.025*\"maguire\" + 0.025*\"evra\" + 0.024*\"one\" + 0.023*\"sky\" + '\n",
      "  '0.022*\"deserve\"'),\n",
      " (3,\n",
      "  '0.040*\"live\" + 0.030*\"telles\" + 0.029*\"alex\" + 0.027*\"stream\" + 0.026*\"fee\" '\n",
      "  '+ 0.026*\"penalty\" + 0.023*\"add\" + 0.023*\"porto\" + 0.022*\"player\" + '\n",
      "  '0.021*\"join\"'),\n",
      " (4,\n",
      "  '0.047*\"goal\" + 0.036*\"son\" + 0.028*\"username\" + 0.028*\"man\" + 0.021*\"old\" + '\n",
      "  '0.021*\"utd\" + 0.016*\"trafford\" + 0.015*\"mins\" + 0.014*\"kane\" + '\n",
      "  '0.013*\"fernandes\"'),\n",
      " (5,\n",
      "  '0.065*\"username\" + 0.026*\"game\" + 0.014*\"one\" + 0.014*\"sign\" + 0.012*\"get\" '\n",
      "  '+ 0.011*\"pron\" + 0.011*\"cavani\" + 0.010*\"see\" + 0.009*\"sancho\" + '\n",
      "  '0.009*\"next\"'),\n",
      " (6,\n",
      "  '0.028*\"fan\" + 0.028*\"see\" + 0.027*\"sancho\" + 0.026*\"buy\" + 0.025*\"evra\" + '\n",
      "  '0.023*\"mourinho\" + 0.023*\"jose\" + 0.023*\"sky\" + 0.022*\"right\" + 0.022*\"go\"'),\n",
      " (7,\n",
      "  '0.055*\"telles\" + 0.052*\"alex\" + 0.047*\"medical\" + 0.041*\"reach\" + '\n",
      "  '0.041*\"agreement\" + 0.041*\"porto\" + 0.041*\"go\" + 0.040*\"last\" + '\n",
      "  '0.040*\"transfer\" + 0.039*\"hour\"'),\n",
      " (8,\n",
      "  '0.054*\"martial\" + 0.052*\"red\" + 0.042*\"lamela\" + 0.040*\"card\" + '\n",
      "  '0.038*\"username\" + 0.021*\"man\" + 0.018*\"solskjaer\" + 0.017*\"think\" + '\n",
      "  '0.016*\"utterly_delude\" + 0.016*\"anyone_blaming\"')]\n",
      "\n",
      "Perplexity:  -6.3803607577481785\n",
      "\n",
      "Coherence Score:  0.4584192816786714\n"
     ]
    }
   ],
   "source": [
    "lda_model2_01 = gensim.models.ldamulticore.LdaMulticore(corpus=corpus,\n",
    "                                           id2word=id2word,\n",
    "                                           num_topics=9, \n",
    "                                           workers=12,\n",
    "                                           passes=5,\n",
    "                                           random_state=1892,\n",
    "                                           alpha='symmetric',\n",
    "                                           iterations=60,\n",
    "                                           per_word_topics=True)\n",
    "pprint(lda_model2_01.print_topics())\n",
    "evaluator(lda_model2_01)"
   ]
  },
  {
   "cell_type": "code",
   "execution_count": 33,
   "metadata": {},
   "outputs": [],
   "source": [
    "modelseries2results = [['model2_01',9,5,60,'symmetric',-6.3813,0.4580]]"
   ]
  },
  {
   "cell_type": "code",
   "execution_count": 34,
   "metadata": {},
   "outputs": [
    {
     "name": "stdout",
     "output_type": "stream",
     "text": [
      "[(0,\n",
      "  '0.043*\"go\" + 0.026*\"first\" + 0.018*\"goal\" + 0.016*\"league\" + 0.016*\"time\" + '\n",
      "  '0.015*\"need\" + 0.015*\"game\" + 0.014*\"match\" + 0.013*\"man\" + 0.013*\"let\"'),\n",
      " (1,\n",
      "  '0.058*\"man\" + 0.041*\"utd\" + 0.023*\"get\" + 0.023*\"penalty\" + 0.014*\"red\" + '\n",
      "  '0.014*\"card\" + 0.014*\"martial\" + 0.012*\"ole\" + 0.010*\"need\" + '\n",
      "  '0.010*\"player\"'),\n",
      " (2,\n",
      "  '0.033*\"fan\" + 0.030*\"right\" + 0.029*\"play\" + 0.029*\"patrice\" + 0.029*\"team\" '\n",
      "  '+ 0.026*\"evra\" + 0.025*\"one\" + 0.025*\"maguire\" + 0.025*\"sky\" + '\n",
      "  '0.024*\"mulive\"'),\n",
      " (3,\n",
      "  '0.040*\"live\" + 0.029*\"telles\" + 0.029*\"alex\" + 0.027*\"stream\" + '\n",
      "  '0.026*\"penalty\" + 0.026*\"fee\" + 0.023*\"add\" + 0.023*\"porto\" + '\n",
      "  '0.022*\"player\" + 0.021*\"join\"'),\n",
      " (4,\n",
      "  '0.047*\"goal\" + 0.035*\"son\" + 0.032*\"username\" + 0.028*\"man\" + 0.021*\"old\" + '\n",
      "  '0.020*\"utd\" + 0.016*\"trafford\" + 0.015*\"mins\" + 0.014*\"kane\" + '\n",
      "  '0.013*\"fernandes\"'),\n",
      " (5,\n",
      "  '0.058*\"username\" + 0.026*\"game\" + 0.015*\"one\" + 0.015*\"sign\" + 0.012*\"get\" '\n",
      "  '+ 0.011*\"cavani\" + 0.011*\"pron\" + 0.010*\"see\" + 0.009*\"sancho\" + '\n",
      "  '0.009*\"next\"'),\n",
      " (6,\n",
      "  '0.029*\"fan\" + 0.029*\"see\" + 0.029*\"sancho\" + 0.027*\"buy\" + 0.026*\"evra\" + '\n",
      "  '0.024*\"sky\" + 0.024*\"right\" + 0.024*\"mourinho\" + 0.023*\"go\" + 0.023*\"jose\"'),\n",
      " (7,\n",
      "  '0.055*\"telles\" + 0.052*\"alex\" + 0.047*\"medical\" + 0.041*\"reach\" + '\n",
      "  '0.041*\"agreement\" + 0.040*\"porto\" + 0.040*\"go\" + 0.040*\"last\" + '\n",
      "  '0.039*\"transfer\" + 0.039*\"hour\"'),\n",
      " (8,\n",
      "  '0.054*\"martial\" + 0.052*\"red\" + 0.041*\"lamela\" + 0.041*\"username\" + '\n",
      "  '0.040*\"card\" + 0.021*\"man\" + 0.018*\"solskjaer\" + 0.016*\"think\" + '\n",
      "  '0.015*\"utterly_delude\" + 0.015*\"anyone_blaming\"')]\n",
      "\n",
      "Perplexity:  -6.3806889600056165\n",
      "\n",
      "Coherence Score:  0.45816188331130037\n"
     ]
    }
   ],
   "source": [
    "lda_model2_02 = gensim.models.ldamulticore.LdaMulticore(corpus=corpus,\n",
    "                                           id2word=id2word,\n",
    "                                           num_topics=9, \n",
    "                                           workers=12,\n",
    "                                           passes=5,\n",
    "                                           random_state=1892,\n",
    "                                           alpha='symmetric',\n",
    "                                           iterations=70,\n",
    "                                           per_word_topics=True)\n",
    "pprint(lda_model2_02.print_topics())\n",
    "evaluator(lda_model2_02)"
   ]
  },
  {
   "cell_type": "code",
   "execution_count": 35,
   "metadata": {},
   "outputs": [],
   "source": [
    "modelseries2results.append(['model2_02',9,5,70,'symmetric',-6.3767,0.4574])"
   ]
  },
  {
   "cell_type": "code",
   "execution_count": 36,
   "metadata": {},
   "outputs": [
    {
     "name": "stdout",
     "output_type": "stream",
     "text": [
      "[(0,\n",
      "  '0.043*\"go\" + 0.026*\"first\" + 0.019*\"goal\" + 0.017*\"league\" + 0.016*\"time\" + '\n",
      "  '0.015*\"game\" + 0.014*\"need\" + 0.013*\"let\" + 0.013*\"man\" + 0.013*\"match\"'),\n",
      " (1,\n",
      "  '0.058*\"man\" + 0.041*\"utd\" + 0.024*\"penalty\" + 0.024*\"get\" + 0.015*\"red\" + '\n",
      "  '0.014*\"card\" + 0.014*\"martial\" + 0.011*\"ole\" + 0.010*\"min\" + 0.010*\"need\"'),\n",
      " (2,\n",
      "  '0.033*\"fan\" + 0.030*\"right\" + 0.029*\"play\" + 0.028*\"team\" + 0.028*\"patrice\" '\n",
      "  '+ 0.026*\"evra\" + 0.025*\"one\" + 0.024*\"sky\" + 0.023*\"deserve\" + '\n",
      "  '0.023*\"understand\"'),\n",
      " (3,\n",
      "  '0.039*\"live\" + 0.029*\"telles\" + 0.029*\"alex\" + 0.027*\"penalty\" + '\n",
      "  '0.026*\"stream\" + 0.026*\"fee\" + 0.023*\"add\" + 0.023*\"porto\" + 0.022*\"player\" '\n",
      "  '+ 0.021*\"join\"'),\n",
      " (4,\n",
      "  '0.047*\"goal\" + 0.036*\"son\" + 0.033*\"username\" + 0.028*\"man\" + 0.021*\"old\" + '\n",
      "  '0.021*\"utd\" + 0.016*\"trafford\" + 0.015*\"mins\" + 0.013*\"kane\" + '\n",
      "  '0.013*\"fernandes\"'),\n",
      " (5,\n",
      "  '0.058*\"username\" + 0.025*\"game\" + 0.015*\"one\" + 0.015*\"sign\" + 0.012*\"get\" '\n",
      "  '+ 0.011*\"pron\" + 0.011*\"cavani\" + 0.010*\"see\" + 0.009*\"sancho\" + '\n",
      "  '0.009*\"next\"'),\n",
      " (6,\n",
      "  '0.028*\"see\" + 0.028*\"fan\" + 0.028*\"sancho\" + 0.027*\"buy\" + 0.026*\"evra\" + '\n",
      "  '0.024*\"sky\" + 0.023*\"right\" + 0.023*\"jose\" + 0.023*\"mourinho\" + 0.023*\"go\"'),\n",
      " (7,\n",
      "  '0.055*\"telles\" + 0.052*\"alex\" + 0.047*\"medical\" + 0.041*\"reach\" + '\n",
      "  '0.041*\"agreement\" + 0.040*\"go\" + 0.040*\"porto\" + 0.040*\"last\" + '\n",
      "  '0.040*\"transfer\" + 0.039*\"hour\"'),\n",
      " (8,\n",
      "  '0.052*\"martial\" + 0.050*\"red\" + 0.040*\"lamela\" + 0.040*\"username\" + '\n",
      "  '0.039*\"card\" + 0.021*\"man\" + 0.019*\"solskjaer\" + 0.017*\"think\" + '\n",
      "  '0.016*\"utterly_delude\" + 0.016*\"anyone_blaming\"')]\n",
      "\n",
      "Perplexity:  -6.382608616206516\n",
      "\n",
      "Coherence Score:  0.45743132531855735\n"
     ]
    }
   ],
   "source": [
    "lda_model2_03 = gensim.models.ldamulticore.LdaMulticore(corpus=corpus,\n",
    "                                           id2word=id2word,\n",
    "                                           num_topics=9, \n",
    "                                           workers=12,\n",
    "                                           passes=5,\n",
    "                                           random_state=1892,\n",
    "                                           alpha='symmetric',\n",
    "                                           iterations=80,\n",
    "                                           per_word_topics=True)\n",
    "pprint(lda_model2_03.print_topics())\n",
    "evaluator(lda_model2_03)"
   ]
  },
  {
   "cell_type": "code",
   "execution_count": 37,
   "metadata": {},
   "outputs": [],
   "source": [
    "modelseries2results.append(['model2_03',9,5,80,'symmetric',-6.3798,0.4481])"
   ]
  },
  {
   "cell_type": "code",
   "execution_count": 38,
   "metadata": {},
   "outputs": [
    {
     "name": "stdout",
     "output_type": "stream",
     "text": [
      "[(0,\n",
      "  '0.042*\"go\" + 0.025*\"first\" + 0.018*\"goal\" + 0.016*\"league\" + 0.015*\"time\" + '\n",
      "  '0.015*\"game\" + 0.015*\"need\" + 0.013*\"man\" + 0.013*\"let\" + 0.012*\"match\"'),\n",
      " (1,\n",
      "  '0.059*\"man\" + 0.042*\"utd\" + 0.024*\"penalty\" + 0.023*\"get\" + 0.015*\"red\" + '\n",
      "  '0.015*\"card\" + 0.014*\"martial\" + 0.011*\"ole\" + 0.010*\"need\" + 0.010*\"min\"'),\n",
      " (2,\n",
      "  '0.031*\"fan\" + 0.029*\"right\" + 0.028*\"play\" + 0.027*\"team\" + 0.027*\"patrice\" '\n",
      "  '+ 0.025*\"maguire\" + 0.024*\"evra\" + 0.023*\"one\" + 0.023*\"sky\" + '\n",
      "  '0.022*\"deserve\"'),\n",
      " (3,\n",
      "  '0.040*\"live\" + 0.030*\"telles\" + 0.029*\"alex\" + 0.027*\"stream\" + 0.026*\"fee\" '\n",
      "  '+ 0.026*\"penalty\" + 0.024*\"add\" + 0.023*\"porto\" + 0.022*\"player\" + '\n",
      "  '0.021*\"move\"'),\n",
      " (4,\n",
      "  '0.048*\"goal\" + 0.037*\"son\" + 0.028*\"username\" + 0.027*\"man\" + 0.021*\"utd\" + '\n",
      "  '0.021*\"old\" + 0.016*\"trafford\" + 0.015*\"mins\" + 0.014*\"kane\" + '\n",
      "  '0.014*\"bruuunnooooo\"'),\n",
      " (5,\n",
      "  '0.065*\"username\" + 0.026*\"game\" + 0.015*\"one\" + 0.014*\"sign\" + 0.012*\"get\" '\n",
      "  '+ 0.011*\"cavani\" + 0.011*\"pron\" + 0.010*\"see\" + 0.009*\"sancho\" + '\n",
      "  '0.009*\"next\"'),\n",
      " (6,\n",
      "  '0.028*\"fan\" + 0.028*\"see\" + 0.027*\"sancho\" + 0.026*\"buy\" + 0.025*\"evra\" + '\n",
      "  '0.023*\"mourinho\" + 0.023*\"jose\" + 0.023*\"sky\" + 0.023*\"right\" + 0.022*\"go\"'),\n",
      " (7,\n",
      "  '0.055*\"telles\" + 0.052*\"alex\" + 0.047*\"medical\" + 0.041*\"reach\" + '\n",
      "  '0.041*\"agreement\" + 0.041*\"porto\" + 0.040*\"go\" + 0.040*\"last\" + '\n",
      "  '0.040*\"transfer\" + 0.039*\"hour\"'),\n",
      " (8,\n",
      "  '0.053*\"martial\" + 0.051*\"red\" + 0.041*\"lamela\" + 0.040*\"card\" + '\n",
      "  '0.038*\"username\" + 0.021*\"man\" + 0.019*\"solskjaer\" + 0.017*\"think\" + '\n",
      "  '0.016*\"utterly_delude\" + 0.016*\"anyone_blaming\"')]\n",
      "\n",
      "Perplexity:  -6.37917885128429\n",
      "\n",
      "Coherence Score:  0.45743132531855735\n"
     ]
    }
   ],
   "source": [
    "lda_model2_04 = gensim.models.ldamulticore.LdaMulticore(corpus=corpus,\n",
    "                                           id2word=id2word,\n",
    "                                           num_topics=9, \n",
    "                                           workers=12,\n",
    "                                           passes=5,\n",
    "                                           random_state=1892,\n",
    "                                           alpha='symmetric',\n",
    "                                           iterations=90,\n",
    "                                           per_word_topics=True)\n",
    "pprint(lda_model2_04.print_topics())\n",
    "evaluator(lda_model2_04)"
   ]
  },
  {
   "cell_type": "code",
   "execution_count": 39,
   "metadata": {},
   "outputs": [],
   "source": [
    "modelseries2results.append(['model2_04',9,5,90,'symmetric',-6.3827,0.4579])"
   ]
  },
  {
   "cell_type": "code",
   "execution_count": null,
   "metadata": {},
   "outputs": [
    {
     "name": "stdout",
     "output_type": "stream",
     "text": [
      "[(0,\n",
      "  '0.043*\"go\" + 0.026*\"first\" + 0.019*\"goal\" + 0.016*\"league\" + 0.016*\"time\" + '\n",
      "  '0.015*\"game\" + 0.014*\"need\" + 0.013*\"let\" + 0.013*\"man\" + 0.013*\"match\"'),\n",
      " (1,\n",
      "  '0.059*\"man\" + 0.041*\"utd\" + 0.024*\"penalty\" + 0.023*\"get\" + 0.015*\"red\" + '\n",
      "  '0.014*\"card\" + 0.014*\"martial\" + 0.011*\"ole\" + 0.010*\"need\" + '\n",
      "  '0.010*\"maguire\"'),\n",
      " (2,\n",
      "  '0.032*\"fan\" + 0.029*\"right\" + 0.029*\"play\" + 0.028*\"team\" + 0.028*\"patrice\" '\n",
      "  '+ 0.025*\"evra\" + 0.024*\"one\" + 0.024*\"maguire\" + 0.024*\"sky\" + '\n",
      "  '0.023*\"deserve\"'),\n",
      " (3,\n",
      "  '0.040*\"live\" + 0.029*\"telles\" + 0.028*\"alex\" + 0.027*\"penalty\" + '\n",
      "  '0.026*\"stream\" + 0.026*\"fee\" + 0.023*\"add\" + 0.023*\"porto\" + 0.022*\"player\" '\n",
      "  '+ 0.021*\"move\"'),\n",
      " (4,\n",
      "  '0.046*\"goal\" + 0.035*\"son\" + 0.032*\"username\" + 0.028*\"man\" + 0.020*\"old\" + '\n",
      "  '0.020*\"utd\" + 0.016*\"trafford\" + 0.015*\"mins\" + 0.014*\"kane\" + '\n",
      "  '0.013*\"bruuunnooooo\"'),\n",
      " (5,\n",
      "  '0.058*\"username\" + 0.026*\"game\" + 0.015*\"one\" + 0.015*\"sign\" + 0.012*\"get\" '\n",
      "  '+ 0.011*\"pron\" + 0.011*\"cavani\" + 0.010*\"see\" + 0.009*\"sancho\" + '\n",
      "  '0.009*\"next\"'),\n",
      " (6,\n",
      "  '0.029*\"see\" + 0.028*\"fan\" + 0.028*\"sancho\" + 0.026*\"buy\" + 0.025*\"evra\" + '\n",
      "  '0.024*\"mourinho\" + 0.023*\"jose\" + 0.023*\"sky\" + 0.023*\"go\" + 0.023*\"right\"'),\n",
      " (7,\n",
      "  '0.055*\"telles\" + 0.052*\"alex\" + 0.047*\"medical\" + 0.041*\"reach\" + '\n",
      "  '0.041*\"agreement\" + 0.040*\"porto\" + 0.040*\"go\" + 0.039*\"last\" + '\n",
      "  '0.039*\"transfer\" + 0.039*\"hour\"'),\n",
      " (8,\n",
      "  '0.055*\"martial\" + 0.053*\"red\" + 0.042*\"lamela\" + 0.041*\"card\" + '\n",
      "  '0.039*\"username\" + 0.021*\"man\" + 0.017*\"solskjaer\" + 0.017*\"think\" + '\n",
      "  '0.015*\"utterly_delude\" + 0.015*\"anyone_blaming\"')]\n",
      "\n",
      "Perplexity:  -6.380679474229282\n"
     ]
    }
   ],
   "source": [
    "lda_model2_05 = gensim.models.ldamulticore.LdaMulticore(corpus=corpus,\n",
    "                                           id2word=id2word,\n",
    "                                           num_topics=9, \n",
    "                                           workers=12,\n",
    "                                           passes=5,\n",
    "                                           random_state=1892,\n",
    "                                           alpha='symmetric',\n",
    "                                           iterations=100,\n",
    "                                           per_word_topics=True)\n",
    "pprint(lda_model2_05.print_topics())\n",
    "evaluator(lda_model2_05)"
   ]
  },
  {
   "cell_type": "code",
   "execution_count": null,
   "metadata": {},
   "outputs": [],
   "source": [
    "modelseries2results.append(['model2_05',9,5,100,'symmetric',-6.3796,0.4584])"
   ]
  },
  {
   "cell_type": "code",
   "execution_count": null,
   "metadata": {},
   "outputs": [],
   "source": [
    "modelseries2results"
   ]
  },
  {
   "cell_type": "code",
   "execution_count": null,
   "metadata": {},
   "outputs": [],
   "source": [
    "modeltracker2 = pd.DataFrame(modelseries2results, columns =['model_name', 'num_topics', 'passes','iterations','alpha','perplexity','coherence'], dtype = float) "
   ]
  },
  {
   "cell_type": "code",
   "execution_count": null,
   "metadata": {},
   "outputs": [],
   "source": [
    "modeltracker = modeltracker.append(modeltracker2, ignore_index=True)"
   ]
  },
  {
   "cell_type": "code",
   "execution_count": null,
   "metadata": {},
   "outputs": [],
   "source": []
  },
  {
   "cell_type": "code",
   "execution_count": null,
   "metadata": {},
   "outputs": [],
   "source": [
    "lda_model3_01 = gensim.models.ldamulticore.LdaMulticore(corpus=corpus,\n",
    "                                           id2word=id2word,\n",
    "                                           num_topics=9, \n",
    "                                           workers=12,\n",
    "                                           passes=10,\n",
    "                                           random_state=1892,\n",
    "                                           alpha='symmetric',\n",
    "                                           iterations=90,\n",
    "                                           per_word_topics=True)\n",
    "pprint(lda_model3_01.print_topics())\n",
    "evaluator(lda_model3_01)"
   ]
  },
  {
   "cell_type": "code",
   "execution_count": null,
   "metadata": {},
   "outputs": [],
   "source": [
    "modelseries3results = [['model3_01',9,10,90,'symmetric',-6.2963,0.4576]]"
   ]
  },
  {
   "cell_type": "code",
   "execution_count": null,
   "metadata": {},
   "outputs": [],
   "source": [
    "lda_model3_02 = gensim.models.ldamulticore.LdaMulticore(corpus=corpus,\n",
    "                                           id2word=id2word,\n",
    "                                           num_topics=9, \n",
    "                                           workers=12,\n",
    "                                           passes=15,\n",
    "                                           random_state=1892,\n",
    "                                           alpha='symmetric',\n",
    "                                           iterations=90,\n",
    "                                           per_word_topics=True)\n",
    "pprint(lda_model3_02.print_topics())\n",
    "evaluator(lda_model3_02)"
   ]
  },
  {
   "cell_type": "code",
   "execution_count": null,
   "metadata": {},
   "outputs": [],
   "source": [
    "modelseries3results.append(['model3_02',9,15,90,'symmetric',-6.2641,0.4606])"
   ]
  },
  {
   "cell_type": "code",
   "execution_count": null,
   "metadata": {},
   "outputs": [],
   "source": [
    "lda_model3_03 = gensim.models.ldamulticore.LdaMulticore(corpus=corpus,\n",
    "                                           id2word=id2word,\n",
    "                                           num_topics=9, \n",
    "                                           workers=12,\n",
    "                                           passes=20,\n",
    "                                           random_state=1892,\n",
    "                                           alpha='symmetric',\n",
    "                                           iterations=90,\n",
    "                                           per_word_topics=True)\n",
    "pprint(lda_model3_03.print_topics())\n",
    "evaluator(lda_model3_03)"
   ]
  },
  {
   "cell_type": "code",
   "execution_count": null,
   "metadata": {},
   "outputs": [],
   "source": [
    "modelseries3results.append(['model3_03',9,20,90,'symmetric',-6.2491,0.4612])"
   ]
  },
  {
   "cell_type": "code",
   "execution_count": null,
   "metadata": {},
   "outputs": [],
   "source": [
    "lda_model3_04 = gensim.models.ldamulticore.LdaMulticore(corpus=corpus,\n",
    "                                           id2word=id2word,\n",
    "                                           num_topics=9, \n",
    "                                           workers=12,\n",
    "                                           passes=25,\n",
    "                                           random_state=1892,\n",
    "                                           alpha='symmetric',\n",
    "                                           iterations=90,\n",
    "                                           per_word_topics=True)\n",
    "pprint(lda_model3_04.print_topics())\n",
    "evaluator(lda_model3_04)"
   ]
  },
  {
   "cell_type": "code",
   "execution_count": null,
   "metadata": {},
   "outputs": [],
   "source": [
    "modelseries3results.append(['model3_04',9,25,90,'symmetric',-6.2399,0.4592])"
   ]
  },
  {
   "cell_type": "code",
   "execution_count": null,
   "metadata": {},
   "outputs": [],
   "source": [
    "modeltracker3 = pd.DataFrame(modelseries3results, columns =['model_name', 'num_topics', 'passes','iterations','alpha','perplexity','coherence'], dtype = float) \n",
    "modeltracker = modeltracker.append(modeltracker3, ignore_index=True)\n",
    "modeltracker"
   ]
  },
  {
   "cell_type": "code",
   "execution_count": null,
   "metadata": {},
   "outputs": [],
   "source": []
  },
  {
   "cell_type": "code",
   "execution_count": null,
   "metadata": {
    "scrolled": true
   },
   "outputs": [],
   "source": [
    "lda_model4_01 = gensim.models.ldamulticore.LdaMulticore(corpus=corpus,\n",
    "                                           id2word=id2word,\n",
    "                                           num_topics=9, \n",
    "                                           workers=12,\n",
    "                                           passes=15,\n",
    "                                           random_state=1892,\n",
    "                                           alpha='asymmetric',\n",
    "                                           iterations=90,\n",
    "                                           per_word_topics=True)\n",
    "pprint(lda_model4_01.print_topics())\n",
    "evaluator(lda_model4_01)"
   ]
  },
  {
   "cell_type": "code",
   "execution_count": null,
   "metadata": {},
   "outputs": [],
   "source": [
    "modeltracker4 = pd.DataFrame([['model4_01',9,15,90,'asymmetric',-6.2637,0.4461]], columns =['model_name', 'num_topics', 'passes','iterations','alpha','perplexity','coherence'], dtype = float)"
   ]
  },
  {
   "cell_type": "code",
   "execution_count": null,
   "metadata": {},
   "outputs": [],
   "source": [
    "modeltracker = modeltracker.append(modeltracker4, ignore_index=True)"
   ]
  },
  {
   "cell_type": "code",
   "execution_count": null,
   "metadata": {},
   "outputs": [],
   "source": [
    "modeltracker"
   ]
  },
  {
   "cell_type": "markdown",
   "metadata": {},
   "source": [
    "# Final step"
   ]
  },
  {
   "cell_type": "code",
   "execution_count": null,
   "metadata": {},
   "outputs": [],
   "source": [
    "lda_model3_02.print_topics()"
   ]
  },
  {
   "cell_type": "code",
   "execution_count": null,
   "metadata": {},
   "outputs": [],
   "source": [
    "pyLDAvis.enable_notebook()\n",
    "pyLDAvis.gensim.prepare(lda_model3_02, corpus, id2word)"
   ]
  },
  {
   "cell_type": "code",
   "execution_count": null,
   "metadata": {},
   "outputs": [],
   "source": []
  },
  {
   "cell_type": "code",
   "execution_count": null,
   "metadata": {},
   "outputs": [],
   "source": [
    "def topiclist(model, n):\n",
    "    topiclist = []\n",
    "    for i in range(0,n):\n",
    "        modellist = [f'topic_{i+1}']\n",
    "        words = []\n",
    "        for i,j in model.show_topic(i):\n",
    "            words.append(i)\n",
    "        modellist.append(words)\n",
    "        topiclist.append(modellist)\n",
    "    return topiclist"
   ]
  },
  {
   "cell_type": "code",
   "execution_count": null,
   "metadata": {},
   "outputs": [],
   "source": [
    "modeldf = pd.DataFrame(topiclist(lda_model3_02, 9), columns = ['dominant topic', 'keywords'])"
   ]
  },
  {
   "cell_type": "code",
   "execution_count": null,
   "metadata": {},
   "outputs": [],
   "source": [
    "modeldf"
   ]
  },
  {
   "cell_type": "code",
   "execution_count": null,
   "metadata": {},
   "outputs": [],
   "source": [
    "topics = lda_model3_02.get_document_topics(corpus)\n",
    "topics_csr = gensim.matutils.corpus2csc(topics)\n",
    "topics_numpy = topics_csr.T.toarray()\n",
    "topics_df = pd.DataFrame(topics_numpy)\n",
    "topics_df"
   ]
  },
  {
   "cell_type": "code",
   "execution_count": null,
   "metadata": {},
   "outputs": [],
   "source": [
    "topics_df = topics_df.rename(columns={0:'topic_1', 1:'topic_2', 2:'topic_3', 3:'topic_4', 4:'topic_5', 5:'topic_6', 6:'topic_7', 7:'topic_8', 8:'topic_9'})"
   ]
  },
  {
   "cell_type": "code",
   "execution_count": null,
   "metadata": {},
   "outputs": [],
   "source": [
    "topics_df.idxmax(axis=1)"
   ]
  },
  {
   "cell_type": "code",
   "execution_count": null,
   "metadata": {},
   "outputs": [],
   "source": [
    "df['dominanttopic'] = topics_df.idxmax(axis=1)"
   ]
  },
  {
   "cell_type": "code",
   "execution_count": null,
   "metadata": {},
   "outputs": [],
   "source": [
    "df.to_csv('../datasets/muntot_final.csv', index_label=False)"
   ]
  },
  {
   "cell_type": "code",
   "execution_count": null,
   "metadata": {},
   "outputs": [],
   "source": [
    "topiccount = pd.DataFrame(topics_df.idxmax(axis=1).value_counts())"
   ]
  },
  {
   "cell_type": "code",
   "execution_count": null,
   "metadata": {},
   "outputs": [],
   "source": [
    "modeldf = modeldf.join(topiccount, on='dominant topic').rename(columns = {0:'tweetcount'})"
   ]
  },
  {
   "cell_type": "code",
   "execution_count": null,
   "metadata": {},
   "outputs": [],
   "source": [
    "modeldf['topic_percent'] = modeldf['tweetcount'].apply(lambda x: x/38701)"
   ]
  },
  {
   "cell_type": "code",
   "execution_count": null,
   "metadata": {},
   "outputs": [],
   "source": [
    "modeldf"
   ]
  },
  {
   "cell_type": "code",
   "execution_count": null,
   "metadata": {},
   "outputs": [],
   "source": [
    "df[['dominanttopic','sentiment_rating','sentiment_score']].groupby('dominanttopic')['sentiment_score'].mean()"
   ]
  },
  {
   "cell_type": "code",
   "execution_count": null,
   "metadata": {},
   "outputs": [],
   "source": [
    "modeldf.to_csv('../datasets/muntot_topics.csv', index_label=False)"
   ]
  },
  {
   "cell_type": "code",
   "execution_count": null,
   "metadata": {},
   "outputs": [],
   "source": []
  }
 ],
 "metadata": {
  "kernelspec": {
   "display_name": "Python 3",
   "language": "python",
   "name": "python3"
  },
  "language_info": {
   "codemirror_mode": {
    "name": "ipython",
    "version": 3
   },
   "file_extension": ".py",
   "mimetype": "text/x-python",
   "name": "python",
   "nbconvert_exporter": "python",
   "pygments_lexer": "ipython3",
   "version": "3.7.7"
  }
 },
 "nbformat": 4,
 "nbformat_minor": 4
}
